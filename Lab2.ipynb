{
 "cells": [
  {
   "cell_type": "markdown",
   "id": "a4c2dd36-a45f-446b-a510-f002991da4b4",
   "metadata": {},
   "source": [
    "**Python Lists and Dictionaries**"
   ]
  },
  {
   "cell_type": "markdown",
   "id": "366e563b-2439-4a6b-92b7-41dcf1fa25bd",
   "metadata": {},
   "source": [
    "* Python provides different types of data structures as sequences (more than one values and each value has its own index).\n",
    "* The first value will have an index 0 in python, the second value will have index 1 and so on.\n",
    "* These indices are used to access a particular value in the sequence"
   ]
  },
  {
   "cell_type": "markdown",
   "id": "69c328a6-3dfb-4d23-9e7e-2b2ba74e071f",
   "metadata": {},
   "source": [
    "**Python Lists:**"
   ]
  },
  {
   "cell_type": "markdown",
   "id": "113805b7-b0c7-4ece-abff-324d4a678d05",
   "metadata": {},
   "source": [
    "* Lists are just like dynamically sized arrays.\n",
    "* A single list may contain DataTypes like Integers, Strings, as well as Objects.\n",
    "* Lists are mutable, and hence, they can be altered even after their creation.\n",
    "* List in Python are ordered and have a definite count.\n",
    "* The elements in a list are indexed according to a definite sequence starting with 0 being the first index."
   ]
  },
  {
   "cell_type": "markdown",
   "id": "db7dd57b-eab8-4802-9015-743094cc48ae",
   "metadata": {},
   "source": [
    "**Creating a List** \n",
    "* Lists in Python can be created by just placing the sequence inside the square brackets[]."
   ]
  },
  {
   "cell_type": "code",
   "execution_count": 1,
   "id": "eefe72f4-558e-4900-a42c-9f35affb5e61",
   "metadata": {},
   "outputs": [
    {
     "name": "stdout",
     "output_type": "stream",
     "text": [
      "Blank List: \n",
      "[]\n"
     ]
    }
   ],
   "source": [
    "# Creating a List\n",
    "List = []\n",
    "print(\"Blank List: \")\n",
    "print(List)"
   ]
  },
  {
   "cell_type": "code",
   "execution_count": 2,
   "id": "c4c5254a-7ea8-4325-a250-a62bc3719e38",
   "metadata": {},
   "outputs": [
    {
     "name": "stdout",
     "output_type": "stream",
     "text": [
      "\n",
      "List of numbers: \n",
      "[10, 20, 14]\n"
     ]
    }
   ],
   "source": [
    "# Creating a List of numbers\n",
    "List = [10, 20, 14]\n",
    "print(\"\\nList of numbers: \")\n",
    "print(List)"
   ]
  },
  {
   "cell_type": "code",
   "execution_count": 3,
   "id": "ec93f742-ccc0-41c6-9f42-8cf8e974efd2",
   "metadata": {},
   "outputs": [
    {
     "name": "stdout",
     "output_type": "stream",
     "text": [
      "\n",
      "List Items: \n",
      "Geeks\n",
      "Geeks\n"
     ]
    }
   ],
   "source": [
    "# Creating a List of strings and accessing using index\n",
    "List = [\"Geeks\", \"For\", \"Geeks\"]\n",
    "print(\"\\nList Items: \")\n",
    "print(List[0])\n",
    "print(List[2])"
   ]
  },
  {
   "cell_type": "code",
   "execution_count": 4,
   "id": "f4d6a6b2-9265-4129-9bb2-741fae05f1f4",
   "metadata": {},
   "outputs": [
    {
     "name": "stdout",
     "output_type": "stream",
     "text": [
      "\n",
      "Multi-Dimensional List: \n",
      "[['Geeks', 'For'], ['Geeks']]\n"
     ]
    }
   ],
   "source": [
    "# Creating a Multi-Dimensional List (By Nesting a list inside a List)\n",
    "List = [['Geeks', 'For'], ['Geeks']]\n",
    "print(\"\\nMulti-Dimensional List: \")\n",
    "print(List)"
   ]
  },
  {
   "cell_type": "markdown",
   "id": "1b45f635-6287-4d84-a9d5-5e22e2d50ad4",
   "metadata": {},
   "source": [
    "* A list may contain duplicate values with their distinct positions"
   ]
  },
  {
   "cell_type": "code",
   "execution_count": 5,
   "id": "82b2ae84-c7d9-4b93-9179-d6e3667dbe0d",
   "metadata": {},
   "outputs": [
    {
     "name": "stdout",
     "output_type": "stream",
     "text": [
      "\n",
      "List with the use of Numbers: \n",
      "[1, 2, 4, 4, 3, 3, 3, 6, 5]\n"
     ]
    }
   ],
   "source": [
    "# (Having duplicate values)\n",
    "List = [1, 2, 4, 4, 3, 3, 3, 6, 5]\n",
    "print(\"\\nList with the use of Numbers: \")\n",
    "print(List)"
   ]
  },
  {
   "cell_type": "code",
   "execution_count": 6,
   "id": "07d67e71-2298-4fae-bc2a-718543debf3f",
   "metadata": {},
   "outputs": [
    {
     "name": "stdout",
     "output_type": "stream",
     "text": [
      "\n",
      "List with the use of Mixed Values: \n",
      "[1, 2, 'Geeks', 4, 'For', 6, 'Geeks']\n"
     ]
    }
   ],
   "source": [
    "# Creating a List with mixed type of values (Having numbers and strings)\n",
    "List = [1, 2, 'Geeks', 4, 'For', 6, 'Geeks']\n",
    "print(\"\\nList with the use of Mixed Values: \")\n",
    "print(List)"
   ]
  },
  {
   "cell_type": "markdown",
   "id": "41761e67-e4b7-4a96-9399-c76ba1a1e519",
   "metadata": {},
   "source": [
    "* Knowing the size of List"
   ]
  },
  {
   "cell_type": "code",
   "execution_count": 7,
   "id": "1ad684e9-dce0-4932-8754-0da37ca50ce8",
   "metadata": {},
   "outputs": [
    {
     "name": "stdout",
     "output_type": "stream",
     "text": [
      "3\n"
     ]
    }
   ],
   "source": [
    "# Creating a List of numbers\n",
    "List2 = [10, 20, 14]\n",
    "print(len(List2))"
   ]
  },
  {
   "cell_type": "markdown",
   "id": "b9a8e2b3-f16d-4c31-a59e-be6d858132b9",
   "metadata": {},
   "source": [
    "**Adding Elements to a List**\n",
    "\n",
    "***Using append() method***\n",
    "* Elements can be added to the List by using the built-in append() function.\n",
    "* Only one element at a time can be added to the list by using the append() method.\n",
    "* For the addition of multiple elements with the append() method, loops are used."
   ]
  },
  {
   "cell_type": "code",
   "execution_count": 8,
   "id": "2b9b6436-f0dd-41a9-a2a5-530a42cc2b44",
   "metadata": {},
   "outputs": [
    {
     "name": "stdout",
     "output_type": "stream",
     "text": [
      "Initial blank List: \n",
      "[]\n",
      "\n",
      "List after Addition of Three elements: \n",
      "[1, 2, 4]\n"
     ]
    }
   ],
   "source": [
    "# Creating a List\n",
    "List = []\n",
    "print(\"Initial blank List: \")\n",
    "print(List)\n",
    "# Addition of Elements # in the List\n",
    "List.append(1)\n",
    "List.append(2)\n",
    "List.append(4)\n",
    "print(\"\\nList after Addition of Three elements: \")\n",
    "print(List)"
   ]
  },
  {
   "cell_type": "code",
   "execution_count": 9,
   "id": "daff1246-d977-4a74-bbc5-aec7283dbc47",
   "metadata": {},
   "outputs": [
    {
     "name": "stdout",
     "output_type": "stream",
     "text": [
      "\n",
      "List after Addition of elements from 1-3: \n",
      "[1, 2, 4, 1, 2, 3]\n"
     ]
    }
   ],
   "source": [
    "# Adding elements to the List # using Iterator\n",
    "for i in range(1, 4):\n",
    "    List.append(i)\n",
    "print(\"\\nList after Addition of elements from 1-3: \")\n",
    "print(List)"
   ]
  },
  {
   "cell_type": "markdown",
   "id": "2705d021-d199-47b0-ac78-7e143a3cff9c",
   "metadata": {},
   "source": [
    "* Tuples can also be added to the list with the use of the append method because tuples are immutable."
   ]
  },
  {
   "cell_type": "code",
   "execution_count": 10,
   "id": "7b033e90-8a73-4de6-99f9-1c8a24f890df",
   "metadata": {},
   "outputs": [
    {
     "name": "stdout",
     "output_type": "stream",
     "text": [
      "\n",
      "List after Addition of a Tuple: \n",
      "[1, 2, 4, 1, 2, 3, (5, 6)]\n"
     ]
    }
   ],
   "source": [
    "# Adding Tuples to the List\n",
    "List.append((5, 6))\n",
    "print(\"\\nList after Addition of a Tuple: \")\n",
    "print(List)"
   ]
  },
  {
   "cell_type": "markdown",
   "id": "8c24f702-8deb-4f8b-b400-60f8cbb304e9",
   "metadata": {},
   "source": [
    "* Unlike Sets, Lists can also be added to the existing list with the use of the append() method."
   ]
  },
  {
   "cell_type": "code",
   "execution_count": 11,
   "id": "bdff01d0-dbdf-4dcd-8647-1b876d786100",
   "metadata": {},
   "outputs": [
    {
     "name": "stdout",
     "output_type": "stream",
     "text": [
      "\n",
      "List after Addition of a List: \n",
      "[1, 2, 4, 1, 2, 3, (5, 6), ['For', 'Geeks']]\n"
     ]
    }
   ],
   "source": [
    "# Addition of List to a List\n",
    "List2 = ['For', 'Geeks']\n",
    "List.append(List2)\n",
    "print(\"\\nList after Addition of a List: \")\n",
    "print(List)"
   ]
  },
  {
   "cell_type": "markdown",
   "id": "852d4ff5-5822-46e6-ad64-41026c4355d5",
   "metadata": {},
   "source": [
    "***Using insert() method***\n",
    "* append() method only works for the addition of elements at the end of the List\n",
    "* For the addition of elements at the desired position, insert() method is used.\n",
    "* Unlike append() which takes only one argument, the insert() method requires two arguments(position, value)."
   ]
  },
  {
   "cell_type": "code",
   "execution_count": 12,
   "id": "36a8b629-a4d1-48cb-b990-ffbcba189869",
   "metadata": {},
   "outputs": [
    {
     "name": "stdout",
     "output_type": "stream",
     "text": [
      "Initial List: \n",
      "[1, 2, 3, 4]\n",
      "\n",
      "List after performing Insert Operation: \n",
      "['Geeks', 1, 2, 3, 12, 4]\n"
     ]
    }
   ],
   "source": [
    "# Creating a List\n",
    "List = [1,2,3,4]\n",
    "print(\"Initial List: \")\n",
    "print(List)\n",
    "# Addition of Element at specific Position (using Insert Method)\n",
    "List.insert(3, 12)\n",
    "List.insert(0, 'Geeks')\n",
    "print(\"\\nList after performing Insert Operation: \")\n",
    "print(List)"
   ]
  },
  {
   "cell_type": "markdown",
   "id": "07a070fe-c76f-4624-8fc2-955d7c40b546",
   "metadata": {},
   "source": [
    "***Using extend() method***\n",
    "* extend() is used to add multiple elements at the same time at the end of the list."
   ]
  },
  {
   "cell_type": "code",
   "execution_count": 13,
   "id": "3cc73909-972e-4f32-b472-1fbe4fe0b6e9",
   "metadata": {},
   "outputs": [
    {
     "name": "stdout",
     "output_type": "stream",
     "text": [
      "Initial List: \n",
      "[1, 2, 3, 4]\n",
      "\n",
      "List after performing Extend Operation: \n",
      "[1, 2, 3, 4, 8, 'Geeks', 'Always']\n"
     ]
    }
   ],
   "source": [
    "# Creating a List\n",
    "List = [1, 2, 3, 4]\n",
    "print(\"Initial List: \")\n",
    "print(List)\n",
    "# Addition of multiple elements to the List at the end (using Extend Method)\n",
    "List.extend([8, 'Geeks', 'Always'])\n",
    "print(\"\\nList after performing Extend Operation: \")\n",
    "print(List)"
   ]
  },
  {
   "cell_type": "markdown",
   "id": "6e2ae302-6734-4e85-864f-627dbe076e4c",
   "metadata": {},
   "source": [
    "***Accessing elements from the List***\n",
    "* In order to access the list items refer to the index number.\n",
    "* Use the index operator [ ] to access an item in a list. (index must be integer)"
   ]
  },
  {
   "cell_type": "code",
   "execution_count": 14,
   "id": "362925e6-249e-4dec-8ee1-bfd8bc72eba5",
   "metadata": {},
   "outputs": [
    {
     "name": "stdout",
     "output_type": "stream",
     "text": [
      "Accessing a element from the list\n",
      "Geeks\n",
      "Geeks\n"
     ]
    }
   ],
   "source": [
    "# Creating a List with the use of multiple values\n",
    "List = [\"Geeks\", \"For\", \"Geeks\"]\n",
    "# accessing a element from the # list using index number\n",
    "print(\"Accessing a element from the list\")\n",
    "print(List[0])\n",
    "print(List[2])"
   ]
  },
  {
   "cell_type": "markdown",
   "id": "b6203822-6335-4a17-a43e-98e98497ace5",
   "metadata": {},
   "source": [
    "* Nested lists are accessed using nested indexing."
   ]
  },
  {
   "cell_type": "code",
   "execution_count": 17,
   "id": "a1223402-ee42-45bf-8edf-46270e839dcd",
   "metadata": {},
   "outputs": [
    {
     "name": "stdout",
     "output_type": "stream",
     "text": [
      "Accessing a element from a Multi-Dimensional list\n",
      "For\n",
      "Geeks\n"
     ]
    }
   ],
   "source": [
    "# Creating a Multi-Dimensional List (By Nesting a list inside a List)\n",
    "List = [['Geeks', 'For'], ['Geeks']] \n",
    "# accessing an element from the Multi-Dimensional List using index number\n",
    "print(\"Accessing a element from a Multi-Dimensional list\")\n",
    "print(List[0][1])\n",
    "print(List[1][0])"
   ]
  },
  {
   "cell_type": "markdown",
   "id": "e16cecad-225a-48d0-b380-c170d5a8cbfc",
   "metadata": {},
   "source": [
    "***Negative indexing In Python***\n",
    "* Negative sequence indexes represent positions from the end of the array.\n",
    "* Instead of having to compute the offset as in List[len(List)-3], it is enough to just write List[-3].\n",
    "* Negative indexing means beginning from the end, -1 refers to the last item, -2 refers to the second-last item, etc."
   ]
  },
  {
   "cell_type": "code",
   "execution_count": 18,
   "id": "eb14063e-3672-4eca-be1d-6f7beef079b0",
   "metadata": {},
   "outputs": [
    {
     "name": "stdout",
     "output_type": "stream",
     "text": [
      "Accessing element using negative indexing\n",
      "Geeks\n",
      "For\n"
     ]
    }
   ],
   "source": [
    "List = [1, 2, 'Geeks', 4, 'For', 6, 'Geeks']\n",
    "# accessing an element using negative indexing\n",
    "print(\"Accessing element using negative indexing\")\n",
    "\n",
    "# print the last element of list\n",
    "print(List[-1])\n",
    "\n",
    "# print the third last element of list\n",
    "print(List[-3])"
   ]
  },
  {
   "cell_type": "markdown",
   "id": "56192864-1f33-41af-8b57-30ab0803629b",
   "metadata": {},
   "source": [
    "**Removing Elements from the List**\n",
    "***Using remove() method***\n",
    "* Elements can be removed from the List by using the built-in remove() function but an Error arises if the element doesn’t exist in the list.\n",
    "* Remove() method only removes one element at a time, to remove a range of elements, the iterator is used."
   ]
  },
  {
   "cell_type": "code",
   "execution_count": 19,
   "id": "a5ee2bd5-8a0a-4747-ba21-5d3ba7d76d35",
   "metadata": {},
   "outputs": [
    {
     "name": "stdout",
     "output_type": "stream",
     "text": [
      "Initial List: \n",
      "[1, 2, 3, 4, 5, 6, 7, 8, 9, 10, 11, 12]\n",
      "\n",
      "List after Removal of two elements: \n",
      "[1, 2, 3, 4, 7, 8, 9, 10, 11, 12]\n",
      "\n",
      "List after Removing a range of elements: \n",
      "[7, 8, 9, 10, 11, 12]\n"
     ]
    }
   ],
   "source": [
    "# Creating a List\n",
    "List = [1, 2, 3, 4, 5, 6, 7, 8, 9, 10, 11, 12]\n",
    "print(\"Initial List: \")\n",
    "print(List)\n",
    "# Removing elements from List using Remove() method\n",
    "List.remove(5)\n",
    "List.remove(6)\n",
    "print(\"\\nList after Removal of two elements: \")\n",
    "print(List)\n",
    "# Removing elements from List using iterator method\n",
    "for i in range(1, 5):\n",
    "    List.remove(i)\n",
    "print(\"\\nList after Removing a range of elements: \")\n",
    "print(List)"
   ]
  },
  {
   "cell_type": "markdown",
   "id": "bb88be2f-a62c-4630-8e38-ada282f45b34",
   "metadata": {},
   "source": [
    "***Using pop() method***\n",
    "* Pop() function can also be used to remove and return an element from the list, but by default it removes only the last element of the list\n",
    "* To remove an element from a specific position of the List, the index of the element is passed as an argument to the pop() method."
   ]
  },
  {
   "cell_type": "code",
   "execution_count": 20,
   "id": "3bd6bbb5-b375-4b01-86ec-8cbbef348e6a",
   "metadata": {},
   "outputs": [
    {
     "name": "stdout",
     "output_type": "stream",
     "text": [
      "\n",
      "List after popping an element: \n",
      "[1, 2, 3, 4]\n"
     ]
    }
   ],
   "source": [
    "List = [1,2,3,4,5] # Removing element from the Set using the pop() method\n",
    "List.pop()\n",
    "print(\"\\nList after popping an element: \")\n",
    "print(List)"
   ]
  },
  {
   "cell_type": "code",
   "execution_count": 22,
   "id": "33d84bd6-8462-44a8-8a4d-5db8ecee5978",
   "metadata": {},
   "outputs": [
    {
     "name": "stdout",
     "output_type": "stream",
     "text": [
      "\n",
      "List after popping a specific element: \n",
      "[2, 4]\n"
     ]
    }
   ],
   "source": [
    "# Removing element at a specific location from the Set using the pop() method\n",
    "List.pop(0)\n",
    "print(\"\\nList after popping a specific element: \")\n",
    "print(List)"
   ]
  },
  {
   "cell_type": "markdown",
   "id": "abaee16c-1a0e-406e-837d-46ee980b7e03",
   "metadata": {},
   "source": [
    "**Slicing of a List**\n",
    "* In Python List, there are multiple ways to print the whole List with all the elements\n",
    "* But to print a specific range of elements from the list, we use the Slice operation.\n",
    "* Slice operation is performed on Lists with the use of a colon(:)\n",
    "  \n",
    "* to print elements within a range, use [Start Index:End Index]"
   ]
  },
  {
   "cell_type": "code",
   "execution_count": 23,
   "id": "fae68382-7d71-4dae-bbd7-c31af324f7c3",
   "metadata": {},
   "outputs": [
    {
     "name": "stdout",
     "output_type": "stream",
     "text": [
      "Initial List: \n",
      "['G', 'E', 'E', 'K', 'S', 'F', 'O', 'R', 'G', 'E', 'E', 'K', 'S']\n",
      "\n",
      "Slicing elements in a range 3-8: \n",
      "['K', 'S', 'F', 'O', 'R']\n"
     ]
    }
   ],
   "source": [
    "# Creating a List\n",
    "List = ['G', 'E', 'E', 'K', 'S', 'F', 'O', 'R', 'G', 'E', 'E', 'K', 'S']\n",
    "print(\"Initial List: \")\n",
    "print(List)\n",
    "# Print elements of a range using Slice operation\n",
    "Sliced_List = List[3:8]\n",
    "print(\"\\nSlicing elements in a range 3-8: \")\n",
    "print(Sliced_List)"
   ]
  },
  {
   "cell_type": "markdown",
   "id": "08ad3668-caec-481d-ad81-bb34cd0604db",
   "metadata": {},
   "source": [
    "* To print elements from beginning to a range use [: Index]"
   ]
  },
  {
   "cell_type": "code",
   "execution_count": 24,
   "id": "f52268d5-97fd-4d9f-ac0e-4eb231f0413f",
   "metadata": {},
   "outputs": [
    {
     "name": "stdout",
     "output_type": "stream",
     "text": [
      "\n",
      "Elements sliced from starting  element till the 3rd: \n",
      "['G', 'E', 'E', 'K']\n"
     ]
    }
   ],
   "source": [
    "# Print elements from start to a pre-defined point\n",
    "Sliced_List = List[:4]\n",
    "print(\"\\nElements sliced from starting \" \" element till the 3rd: \")\n",
    "print(Sliced_List)"
   ]
  },
  {
   "cell_type": "markdown",
   "id": "3c8465ac-16a2-4a5a-b9fb-85d8a8a814ce",
   "metadata": {},
   "source": [
    "* to print elements from specific Index till the end use [Index:]"
   ]
  },
  {
   "cell_type": "code",
   "execution_count": 25,
   "id": "a7aebe86-32ef-47b4-b9c7-3d36b9f041a3",
   "metadata": {},
   "outputs": [
    {
     "name": "stdout",
     "output_type": "stream",
     "text": [
      "\n",
      "Elements sliced from 5th element till the end: \n",
      "['F', 'O', 'R', 'G', 'E', 'E', 'K', 'S']\n"
     ]
    }
   ],
   "source": [
    "# Print elements from a pre-defined point to end\n",
    "Sliced_List = List[5:]\n",
    "print(\"\\nElements sliced from 5th \" \"element till the end: \")\n",
    "print(Sliced_List)"
   ]
  },
  {
   "cell_type": "markdown",
   "id": "0028273c-bda2-4021-8eb2-d59024955c1a",
   "metadata": {},
   "source": [
    "* to print the whole List with the use of slicing operation, use [:]"
   ]
  },
  {
   "cell_type": "code",
   "execution_count": 26,
   "id": "9553ee5e-0e49-43e8-ab63-8675240b2692",
   "metadata": {},
   "outputs": [
    {
     "name": "stdout",
     "output_type": "stream",
     "text": [
      "\n",
      "Printing all elements using slice operation: \n",
      "['G', 'E', 'E', 'K', 'S', 'F', 'O', 'R', 'G', 'E', 'E', 'K', 'S']\n"
     ]
    }
   ],
   "source": [
    "# Printing elements from beginning till end\n",
    "Sliced_List = List[:]\n",
    "print(\"\\nPrinting all elements using slice operation: \")\n",
    "print(Sliced_List)"
   ]
  },
  {
   "cell_type": "markdown",
   "id": "87acb1e5-f2bb-4f2c-8ce7-5629f977fc37",
   "metadata": {},
   "source": [
    "***Negative index List slicing***"
   ]
  },
  {
   "cell_type": "markdown",
   "id": "7a895fc9-4529-4cd7-9ad2-3a792b5cbd14",
   "metadata": {},
   "source": [
    "* to print elements from end-use [:-Index]"
   ]
  },
  {
   "cell_type": "code",
   "execution_count": 27,
   "id": "de23c203-fcb5-4638-9f2a-1e9e32f8a8ac",
   "metadata": {},
   "outputs": [
    {
     "name": "stdout",
     "output_type": "stream",
     "text": [
      "\n",
      "Elements sliced till 6th element from last: \n",
      "['G', 'E', 'E', 'K', 'S', 'F', 'O']\n"
     ]
    }
   ],
   "source": [
    "# Print elements from beginning to a pre-defined point using Slice\n",
    "Sliced_List = List[:-6]\n",
    "print(\"\\nElements sliced till 6th element from last: \")\n",
    "print(Sliced_List)"
   ]
  },
  {
   "cell_type": "markdown",
   "id": "05cca88b-4d54-4332-9040-ca08668b4858",
   "metadata": {},
   "source": [
    "* To print elements of List from rear-end, use Negative Indexes."
   ]
  },
  {
   "cell_type": "code",
   "execution_count": 28,
   "id": "2c304c5e-0e0e-4f37-b55c-46d8d05b9c25",
   "metadata": {},
   "outputs": [
    {
     "name": "stdout",
     "output_type": "stream",
     "text": [
      "\n",
      "Elements sliced from index -6 to -1\n",
      "['R', 'G', 'E', 'E', 'K']\n"
     ]
    }
   ],
   "source": [
    "# Print elements of a range using negative index List slicing\n",
    "Sliced_List = List[-6:-1]\n",
    "print(\"\\nElements sliced from index -6 to -1\")\n",
    "print(Sliced_List)"
   ]
  },
  {
   "cell_type": "markdown",
   "id": "d9400002-5fbc-47f0-bacc-91b5e9de271d",
   "metadata": {},
   "source": [
    "* Further, to print the whole List in reverse order, use [::-1]"
   ]
  },
  {
   "cell_type": "code",
   "execution_count": 29,
   "id": "ec2b87e1-7e62-455d-ab59-8b42d5e90e12",
   "metadata": {},
   "outputs": [
    {
     "name": "stdout",
     "output_type": "stream",
     "text": [
      "\n",
      "Printing List in reverse: \n",
      "['S', 'K', 'E', 'E', 'G', 'R', 'O', 'F', 'S', 'K', 'E', 'E', 'G']\n"
     ]
    }
   ],
   "source": [
    "# Printing elements in reverse using Slice operation\n",
    "Sliced_List = List[::-1]\n",
    "print(\"\\nPrinting List in reverse: \")\n",
    "print(Sliced_List)"
   ]
  },
  {
   "cell_type": "markdown",
   "id": "a07c6332-2179-47e0-8245-fd9a58c9924a",
   "metadata": {},
   "source": [
    "**List Comprehension** \n",
    "* List comprehensions are used for creating new lists from other iterables like tuples, strings, arrays, lists, etc.\n",
    "* A list comprehension consists of brackets containing the expression, which executes for each element along with for loop to iterate over each element.\n",
    "\n",
    "* Syntax: newList = [ expression(element) for element in oldList if condition ]"
   ]
  },
  {
   "cell_type": "code",
   "execution_count": 30,
   "id": "77eae84f-2aaf-486a-8bfa-85c4808b56f1",
   "metadata": {},
   "outputs": [
    {
     "name": "stdout",
     "output_type": "stream",
     "text": [
      "[1, 9, 25, 49, 81]\n"
     ]
    }
   ],
   "source": [
    "# Python program to demonstrate list comprehension in Python\n",
    "#below list contains square of all odd numbers from range 1 to 10\n",
    "odd_square = [x ** 2 for x in range(1, 11) if x % 2 == 1]\n",
    "print(odd_square)"
   ]
  },
  {
   "cell_type": "markdown",
   "id": "cf983584-b826-4524-8a94-b89cd9d17cb6",
   "metadata": {},
   "source": [
    "**Dictionary**\n",
    "\n",
    "* A dictionary is a built-in data structure in Python, designed to store values in pairs of keys and their corresponding values.\n",
    "* A Python dictionary is a key-value store where each key points to a specific value.\n",
    "* Keys must be immutable and don't allow polymorphism (meaning you can't use mutable objects like lists as dictionary keys).\n",
    "* In Python 3.7 and later, dictionaries maintain the order in which items are inserted, making them ordered collections."
   ]
  },
  {
   "cell_type": "markdown",
   "id": "a0140dbf-95ef-458b-96ea-1a41aa0d5c29",
   "metadata": {},
   "source": [
    "***Creating a Dictionary***\n",
    "* In Python, a Dictionary can be created by placing a sequence of elements within curly {} braces, separated by ‘comma’.\n",
    "* Dictionary holds pairs of values, one being the Key and the other corresponding pair element being its Key:value.\n",
    "* Values in a dictionary can be of any data type and can be duplicated, whereas keys can’t be repeated and must be immutable"
   ]
  },
  {
   "cell_type": "code",
   "execution_count": 32,
   "id": "49a39844-8f95-411c-8144-75ac0bf261a1",
   "metadata": {},
   "outputs": [
    {
     "name": "stdout",
     "output_type": "stream",
     "text": [
      "\n",
      "Dictionary with the use of Integer Keys: \n",
      "{1: 'Geeks', 2: 'For', 3: 'Geeks'}\n"
     ]
    }
   ],
   "source": [
    "# Creating a Dictionary with Integer Keys\n",
    "Dict = {1: 'Geeks', 2: 'For', 3: 'Geeks'}\n",
    "print(\"\\nDictionary with the use of Integer Keys: \")\n",
    "print(Dict)"
   ]
  },
  {
   "cell_type": "code",
   "execution_count": 31,
   "id": "33d5a59b-1fdb-4938-a8a3-4f0eaee4031b",
   "metadata": {},
   "outputs": [
    {
     "name": "stdout",
     "output_type": "stream",
     "text": [
      "\n",
      "Dictionary with the use of Mixed Keys: \n",
      "{'Name': 'Geeks', 1: [1, 2, 3, 4]}\n"
     ]
    }
   ],
   "source": [
    "# Creating a Dictionary with Mixed keys\n",
    "Dict = {'Name': 'Geeks', 1: [1, 2, 3, 4]}\n",
    "print(\"\\nDictionary with the use of Mixed Keys: \")\n",
    "print(Dict)"
   ]
  },
  {
   "cell_type": "markdown",
   "id": "bc64db5b-73f1-4388-bd83-478d2deed1d4",
   "metadata": {},
   "source": [
    "* An empty dictionary can be created by just placing to curly braces{}."
   ]
  },
  {
   "cell_type": "code",
   "execution_count": 33,
   "id": "e2c00dcd-160f-4068-905a-d1e6ce8624dc",
   "metadata": {},
   "outputs": [
    {
     "name": "stdout",
     "output_type": "stream",
     "text": [
      "Empty Dictionary: \n",
      "{}\n"
     ]
    }
   ],
   "source": [
    "# Creating an empty Dictionary\n",
    "Dict = {}\n",
    "print(\"Empty Dictionary: \")\n",
    "print(Dict)"
   ]
  },
  {
   "cell_type": "markdown",
   "id": "068403f6-51b9-4897-ac2f-407ba816fc68",
   "metadata": {},
   "source": [
    "* Dictionary can also be created by the built-in function dict()."
   ]
  },
  {
   "cell_type": "code",
   "execution_count": 34,
   "id": "d1f49f17-a3c6-42d2-923b-d0b1236932f8",
   "metadata": {},
   "outputs": [
    {
     "name": "stdout",
     "output_type": "stream",
     "text": [
      "\n",
      "Dictionary with the use of dict(): \n",
      "{1: 'Geeks', 2: 'For', 3: 'Geeks'}\n"
     ]
    }
   ],
   "source": [
    "# Creating a Dictionary with dict() method\n",
    "Dict = dict({1: 'Geeks', 2: 'For', 3:'Geeks'})\n",
    "print(\"\\nDictionary with the use of dict(): \")\n",
    "print(Dict)"
   ]
  },
  {
   "cell_type": "code",
   "execution_count": null,
   "id": "629e0635-4a6b-4433-a8e0-2015d3256552",
   "metadata": {},
   "outputs": [],
   "source": [
    "# Creating a Dictionary with each item as a Pair\n",
    "Dict = dict([(1, 'Geeks'), (2, 'For')])\n",
    "print(\"\\nDictionary with each item as a pair: \")\n",
    "print(Dict)"
   ]
  },
  {
   "cell_type": "code",
   "execution_count": 35,
   "id": "2b584a47-1d08-4262-9f9d-808c9f017ae1",
   "metadata": {},
   "outputs": [
    {
     "name": "stdout",
     "output_type": "stream",
     "text": [
      "{'name': 'Alice', 'age': 30}\n",
      "{'city': 'New York', 'profession': 'Engineer'}\n",
      "{'country': 'USA', 'hobby': 'Reading'}\n"
     ]
    }
   ],
   "source": [
    "# Creating a dictionary with dict()\n",
    "# Keyword Arguments\n",
    "dict1 = dict(name=\"Alice\", age=30)\n",
    "\n",
    "# List of Tuples\n",
    "dict2 = dict([(\"city\", \"New York\"), (\"profession\", \"Engineer\")])\n",
    "\n",
    "# List of Lists\n",
    "dict3 = dict([[\"country\", \"USA\"], [\"hobby\", \"Reading\"]])\n",
    "\n",
    "print(dict1)\n",
    "print(dict2)\n",
    "print(dict3)"
   ]
  },
  {
   "cell_type": "markdown",
   "id": "66da9d29-6293-4490-bf12-97ef036cb6d0",
   "metadata": {},
   "source": [
    "* A nested dictionary is simply a dictionary where the value of one or more keys is another dictionary."
   ]
  },
  {
   "cell_type": "code",
   "execution_count": 36,
   "id": "feb1ceff-2238-421e-b667-13ed3669b5f2",
   "metadata": {},
   "outputs": [
    {
     "name": "stdout",
     "output_type": "stream",
     "text": [
      "{1: 'Geeks', 2: 'For', 3: {'A': 'Welcome', 'B': 'To', 'C': 'Geeks'}}\n",
      "Welcome\n"
     ]
    }
   ],
   "source": [
    "# Creating a Nested Dictionary \n",
    "Dict = {1: 'Geeks', 2: 'For', 3:{'A' : 'Welcome', 'B' : 'To', 'C' : 'Geeks'}}\n",
    "print(Dict)\n",
    "print(Dict[3]['A'])  # Output: 'Welcome'"
   ]
  },
  {
   "cell_type": "markdown",
   "id": "79f7645f-4310-45cc-a172-76fd43d28c40",
   "metadata": {},
   "source": [
    "**Adding elements to a Dictionary**\n",
    "* One value at a time can be added to a Dictionary by defining value along with the key e.g. Dict[Key] = ‘Value’.\n",
    "* While adding a value, if the key-value already exists, the value gets updated otherwise a new Key with the value is added to the Dictionary."
   ]
  },
  {
   "cell_type": "code",
   "execution_count": 37,
   "id": "40996085-86de-44fe-a3dd-5520cced08a5",
   "metadata": {},
   "outputs": [
    {
     "name": "stdout",
     "output_type": "stream",
     "text": [
      "Empty Dictionary: \n",
      "{}\n",
      "\n",
      "Dictionary after adding 3 elements: \n",
      "{0: 'Geeks', 2: 'For', 3: 1}\n"
     ]
    }
   ],
   "source": [
    "# Creating an empty Dictionary\n",
    "Dict = {}\n",
    "print(\"Empty Dictionary: \")\n",
    "print(Dict) \n",
    "\n",
    "# Adding elements one at a time\n",
    "Dict[0] = 'Geeks'\n",
    "Dict[2] = 'For'\n",
    "Dict[3] = 1\n",
    "print(\"\\nDictionary after adding 3 elements: \")\n",
    "print(Dict)"
   ]
  },
  {
   "cell_type": "code",
   "execution_count": 38,
   "id": "1736b8d1-7a8b-4009-9947-a78f3d86ceb9",
   "metadata": {},
   "outputs": [
    {
     "name": "stdout",
     "output_type": "stream",
     "text": [
      "\n",
      "Dictionary after adding 3 elements: \n",
      "{0: 'Geeks', 2: 'For', 3: 1, 'Value_set': (2, 3, 4)}\n"
     ]
    }
   ],
   "source": [
    "# Adding set of values to a single Key\n",
    "Dict['Value_set'] = 2, 3, 4\n",
    "print(\"\\nDictionary after adding 3 elements: \")\n",
    "print(Dict)"
   ]
  },
  {
   "cell_type": "markdown",
   "id": "42c29388-efee-4852-a498-23f0c306ebce",
   "metadata": {},
   "source": [
    "* Updating an existing value in a Dictionary can be done by using the built-in update() method."
   ]
  },
  {
   "cell_type": "code",
   "execution_count": 39,
   "id": "0eeedda1-26e8-400f-8761-8c923bbdd267",
   "metadata": {},
   "outputs": [
    {
     "name": "stdout",
     "output_type": "stream",
     "text": [
      "\n",
      "Updated key value: \n",
      "{0: 'Geeks', 2: 'Welcome', 3: 1, 'Value_set': (2, 3, 4)}\n"
     ]
    }
   ],
   "source": [
    "# Updating existing Key's Value\n",
    "#Dict[2] = 'Welcome'\n",
    "Dict.update({2: 'Welcome'})\n",
    "print(\"\\nUpdated key value: \")\n",
    "print(Dict)"
   ]
  },
  {
   "cell_type": "markdown",
   "id": "9aebee82-1bf1-4e90-a1f2-962653e14aa8",
   "metadata": {},
   "source": [
    "* Nested key values can also be added to an existing Dictionary."
   ]
  },
  {
   "cell_type": "code",
   "execution_count": 40,
   "id": "1e0677e5-9f85-4489-b1a9-ec448e986262",
   "metadata": {},
   "outputs": [
    {
     "name": "stdout",
     "output_type": "stream",
     "text": [
      "\n",
      "Adding a Nested Key: \n",
      "{0: 'Geeks', 2: 'Welcome', 3: 1, 'Value_set': (2, 3, 4), 5: {'Nested': {'1': 'Life', '2': 'Geeks'}}}\n"
     ]
    }
   ],
   "source": [
    "# Adding Nested Key value to Dictionary\n",
    "Dict[5] = {'Nested' :{'1' : 'Life', '2' : 'Geeks'}}\n",
    "print(\"\\nAdding a Nested Key: \")\n",
    "print(Dict)"
   ]
  },
  {
   "cell_type": "markdown",
   "id": "e035915a-1fc1-46ef-bb73-95bb9bdc07db",
   "metadata": {},
   "source": [
    "**Accessing elements from a Dictionary**\n",
    "* In order to access the items of a dictionary refer to its key name. Key can be used inside square brackets."
   ]
  },
  {
   "cell_type": "code",
   "execution_count": 41,
   "id": "0aa818e1-af84-4d49-9693-52bdd8838257",
   "metadata": {},
   "outputs": [
    {
     "name": "stdout",
     "output_type": "stream",
     "text": [
      "Accessing a element using key:\n",
      "For\n",
      "Accessing a element using key:\n",
      "Geeks\n"
     ]
    }
   ],
   "source": [
    "# Creating a Dictionary\n",
    "Dict = {1: 'Geeks', 'name': 'For', 3: 'Geeks'}\n",
    "\n",
    "# accessing a element using key\n",
    "print(\"Accessing a element using key:\")\n",
    "print(Dict['name'])\n",
    "\n",
    "# accessing a element using key\n",
    "print(\"Accessing a element using key:\")\n",
    "print(Dict[1])"
   ]
  },
  {
   "cell_type": "markdown",
   "id": "f88b99eb-c5a6-497b-8e54-8102374f9706",
   "metadata": {},
   "source": [
    "* There is also a method called get() that will also help in accessing the element from a dictionary."
   ]
  },
  {
   "cell_type": "code",
   "execution_count": 42,
   "id": "f4e3567a-9fe5-45dd-982b-eee26077822d",
   "metadata": {},
   "outputs": [
    {
     "name": "stdout",
     "output_type": "stream",
     "text": [
      "Accessing a element using get:\n",
      "Geeks\n"
     ]
    }
   ],
   "source": [
    "# Creating a Dictionary\n",
    "Dict = {1: 'Geeks', 'name': 'For', 3: 'Geeks'}\n",
    "# accessing a element using get() method\n",
    "print(\"Accessing a element using get:\")\n",
    "print(Dict.get(3))"
   ]
  },
  {
   "cell_type": "markdown",
   "id": "63657765-c742-40d3-ab82-e65977facc99",
   "metadata": {},
   "source": [
    "***Accessing an element of a nested dictionary***\n",
    "* In order to access the value of any key in the nested dictionary, use indexing [] syntax."
   ]
  },
  {
   "cell_type": "code",
   "execution_count": 43,
   "id": "08768ddb-bfd7-43ff-857a-b9b9cc9e0e0e",
   "metadata": {},
   "outputs": [
    {
     "name": "stdout",
     "output_type": "stream",
     "text": [
      "{1: 'Geeks'}\n",
      "Geeks\n",
      "For\n"
     ]
    }
   ],
   "source": [
    "#Creating a Dictionary\n",
    "Dict = {'Dict1': {1: 'Geeks'}, 'Dict2': {'Name': 'For'}}\n",
    "# Accessing element using key\n",
    "print(Dict['Dict1'])\n",
    "print(Dict['Dict1'][1])\n",
    "print(Dict['Dict2']['Name'])"
   ]
  },
  {
   "cell_type": "markdown",
   "id": "26680db0-8ead-4b9c-97ed-de8c1e1fc333",
   "metadata": {},
   "source": [
    "**Removing Elements from Dictionary**\n",
    "\n",
    "***Using del keyword***\n",
    "* In Python Dictionary, deletion of keys can be done by using the del keyword.\n",
    "* Using the del keyword, specific values from a dictionary as well as the whole dictionary can be deleted.\n",
    "* Items in a Nested dictionary can also be deleted by using the del keyword and providing a specific nested key and particular key to be deleted from that nested Dictionary."
   ]
  },
  {
   "cell_type": "code",
   "execution_count": 44,
   "id": "575881f5-da64-4341-955b-0dee4eb2e06c",
   "metadata": {},
   "outputs": [
    {
     "name": "stdout",
     "output_type": "stream",
     "text": [
      "Initial Dictionary: \n",
      "{5: 'Welcome', 6: 'To', 7: 'Geeks', 'A': {1: 'Geeks', 2: 'For', 3: 'Geeks'}, 'B': {1: 'Geeks', 2: 'Life'}}\n",
      "\n",
      "Deleting a specific key: \n",
      "{5: 'Welcome', 7: 'Geeks', 'A': {1: 'Geeks', 2: 'For', 3: 'Geeks'}, 'B': {1: 'Geeks', 2: 'Life'}}\n",
      "\n",
      "Deleting a key from Nested Dictionary: \n",
      "{5: 'Welcome', 7: 'Geeks', 'A': {1: 'Geeks', 3: 'Geeks'}, 'B': {1: 'Geeks', 2: 'Life'}}\n"
     ]
    }
   ],
   "source": [
    "# Initial Dictionary\n",
    "Dict = { 5 : 'Welcome', 6 : 'To', 7 : 'Geeks', 'A' : {1 : 'Geeks', 2 : 'For', 3 : 'Geeks'}, 'B' : {1 : 'Geeks', 2 : 'Life'}}\n",
    "print(\"Initial Dictionary: \")\n",
    "print(Dict)\n",
    "\n",
    "# Deleting a Key value\n",
    "del Dict[6]\n",
    "print(\"\\nDeleting a specific key: \")\n",
    "print(Dict)\n",
    "\n",
    "# Deleting a Key from Nested Dictionary\n",
    "del Dict['A'][2]\n",
    "print(\"\\nDeleting a key from Nested Dictionary: \")\n",
    "print(Dict)"
   ]
  },
  {
   "cell_type": "markdown",
   "id": "256add12-5fcc-412a-bcf1-83cbc21746ab",
   "metadata": {},
   "source": [
    "***Using pop() method***\n",
    "* Pop() method is used to return and delete the value of the key specified."
   ]
  },
  {
   "cell_type": "code",
   "execution_count": 45,
   "id": "1050a265-9db3-4f06-8113-8b315ff28ff5",
   "metadata": {},
   "outputs": [
    {
     "name": "stdout",
     "output_type": "stream",
     "text": [
      "\n",
      "Dictionary after deletion: {'name': 'For', 3: 'Geeks'}\n",
      "Value associated to poped key is: Geeks\n"
     ]
    }
   ],
   "source": [
    "# Creating a Dictionary\n",
    "Dict = {1: 'Geeks', 'name': 'For', 3: 'Geeks'}\n",
    "# Deleting a key using pop() method\n",
    "pop_ele = Dict.pop(1)\n",
    "print('\\nDictionary after deletion: ' + str(Dict))\n",
    "print('Value associated to poped key is: ' + str(pop_ele))"
   ]
  },
  {
   "cell_type": "markdown",
   "id": "ca0636e2-0b1d-4735-a1dd-eae42222a954",
   "metadata": {},
   "source": [
    "***Using popitem() method***\n",
    "* The popitem() returns and removes an arbitrary element (key, value) pair from the dictionary. (last inserted since Python 3.7)"
   ]
  },
  {
   "cell_type": "code",
   "execution_count": 46,
   "id": "d8dae37e-1465-4101-bf64-251e5b2078d9",
   "metadata": {},
   "outputs": [
    {
     "name": "stdout",
     "output_type": "stream",
     "text": [
      "\n",
      "Dictionary after deletion: {1: 'Geeks', 'name': 'For'}\n",
      "The arbitrary pair returned is: (3, 'Geeks')\n"
     ]
    }
   ],
   "source": [
    "# Creating Dictionary\n",
    "Dict = {1: 'Geeks', 'name': 'For', 3: 'Geeks'}\n",
    "# Deleting an arbitrary key using popitem() function\n",
    "pop_ele = Dict.popitem()\n",
    "print(\"\\nDictionary after deletion: \" + str(Dict))\n",
    "print(\"The arbitrary pair returned is: \" + str(pop_ele))"
   ]
  },
  {
   "cell_type": "markdown",
   "id": "65d9b8b4-a2e1-45c1-a665-2e0257b23c6b",
   "metadata": {},
   "source": [
    "***Using clear() method***\n",
    "* All the items from a dictionary can be deleted at once by using clear() method."
   ]
  },
  {
   "cell_type": "code",
   "execution_count": 47,
   "id": "c0d06fe7-4135-44f5-a210-835856498df4",
   "metadata": {},
   "outputs": [
    {
     "name": "stdout",
     "output_type": "stream",
     "text": [
      "\n",
      "Deleting Entire Dictionary: \n",
      "{}\n"
     ]
    }
   ],
   "source": [
    "# Creating a Dictionary\n",
    "Dict = {1: 'Geeks', 'name': 'For', 3: 'Geeks'}\n",
    "# Deleting entire Dictionary\n",
    "Dict.clear()\n",
    "print(\"\\nDeleting Entire Dictionary: \")\n",
    "print(Dict)"
   ]
  },
  {
   "cell_type": "markdown",
   "id": "1465750b-c59f-4b1a-bf9b-f4a592d82e38",
   "metadata": {},
   "source": [
    "**LAB ACTIVITIES**"
   ]
  },
  {
   "cell_type": "markdown",
   "id": "bb2df9f9-c872-4df2-af13-34e6a3299a7f",
   "metadata": {},
   "source": [
    "***Activity 1:***\n",
    "* Accept two lists from user and display their join."
   ]
  },
  {
   "cell_type": "code",
   "execution_count": 48,
   "id": "b1d17b22",
   "metadata": {},
   "outputs": [
    {
     "name": "stdout",
     "output_type": "stream",
     "text": [
      "Enter objects of list1:\n"
     ]
    },
    {
     "name": "stdout",
     "output_type": "stream",
     "text": [
      "Enter value 1 for list1:  1\n",
      "Enter value 2 for list1:  2\n",
      "Enter value 3 for list1:  3\n",
      "Enter value 4 for list1:  4\n",
      "Enter value 5 for list1:  5\n"
     ]
    },
    {
     "name": "stdout",
     "output_type": "stream",
     "text": [
      "Enter objects of list2:\n"
     ]
    },
    {
     "name": "stdout",
     "output_type": "stream",
     "text": [
      "Enter value 1 for list2:  6\n",
      "Enter value 2 for list2:  7\n",
      "Enter value 3 for list2:  5\n",
      "Enter value 4 for list2:  4\n",
      "Enter value 5 for list2:  8\n"
     ]
    },
    {
     "name": "stdout",
     "output_type": "stream",
     "text": [
      "Joined list: [1, 2, 3, 4, 5, 6, 7, 5, 4, 8]\n"
     ]
    }
   ],
   "source": [
    "# Initialize empty lists\n",
    "list1 = []\n",
    "list2 = []\n",
    "\n",
    "# Accept values for list1\n",
    "print(\"Enter objects of list1:\")\n",
    "for i in range(5):\n",
    "    value = input(f\"Enter value {i+1} for list1: \")\n",
    "    value=int(value)\n",
    "    list1.append(value)\n",
    "\n",
    "# Accept values for list2\n",
    "print(\"Enter objects of list2:\")\n",
    "for i in range(5):\n",
    "    value = input(f\"Enter value {i+1} for list2: \")\n",
    "    value=int(value)\n",
    "    list2.append(value)\n",
    "\n",
    "# Join the lists\n",
    "joined_list = list1 + list2\n",
    "\n",
    "# Display the joined list\n",
    "print(\"Joined list:\", joined_list)"
   ]
  },
  {
   "cell_type": "markdown",
   "id": "4c183f9d-eabc-486e-9dc3-843561860bad",
   "metadata": {},
   "source": [
    "***Activity 2:***\n",
    "* A palindrome is a string which is same read forward or backwards.\n",
    "For example: \"dad\" is the same in forward or reverse direction. Another example is \"aibohphobia\" which literally means, an irritable fear of palindromes.\n",
    "* Write a function in python that receives a string and returns True if that string is a palindrome and False otherwise. Remember that difference between upper and lower case characters are ignored during this determination."
   ]
  },
  {
   "cell_type": "code",
   "execution_count": 49,
   "id": "465aa117",
   "metadata": {},
   "outputs": [
    {
     "name": "stdout",
     "output_type": "stream",
     "text": [
      "True\n",
      "False\n"
     ]
    }
   ],
   "source": [
    "def is_palindrome(s):\n",
    "    # Convert the string to lower case to ignore case differences\n",
    "    s = s.lower()\n",
    "    # Check if the string is equal to its reverse\n",
    "    return s == s[::-1]\n",
    "\n",
    "# Example usage\n",
    "print(is_palindrome(\"Dad\"))  # Output: True\n",
    "print(is_palindrome(\"Hello\"))  # Output: False"
   ]
  },
  {
   "cell_type": "markdown",
   "id": "96021c02-7ea1-459b-a92b-4df9b743149f",
   "metadata": {},
   "source": [
    "***Activity 3:***\n",
    "* Imagine two matrices given in the form of 2D lists as under;\n",
    "* a = [[1, 0, 0], [0, 1, 0], [0, 0, 1] ],     b = [[1, 2, 3], [4, 5, 6], [7, 8, 9] ]\n",
    "* Write a python code that finds another matrix/2D list that is a product of and b, i.e., C=a*b"
   ]
  },
  {
   "cell_type": "code",
   "execution_count": 50,
   "id": "afe3542b",
   "metadata": {},
   "outputs": [
    {
     "name": "stdout",
     "output_type": "stream",
     "text": [
      "Matrix C (product of A and B):\n",
      "[1, 2, 3]\n",
      "[4, 5, 6]\n",
      "[7, 8, 9]\n"
     ]
    }
   ],
   "source": [
    "# Define the matrices \n",
    "a = [[1, 0, 0], [0, 1, 0], [0, 0, 1]]  \n",
    "  # A 3x3 matrix with integers\n",
    "b = [[1, 2, 3],[4, 5, 6], [7, 8, 9]]\n",
    "\n",
    "# Initialize the result matrix with zeros\n",
    "# The result matrix c will have the same number of rows as matrix a and the same number of columns as matrix b\n",
    "c = [[0 for _ in range(len(b[0]))] for _ in range(len(a))]\n",
    "# This creates a 3x3 matrix filled with zeros\n",
    "\n",
    "# Perform matrix multiplication\n",
    "# Iterate over each row of matrix a\n",
    "for i in range(len(a)):  \n",
    "    # Iterate over each column of matrix b\n",
    "    for j in range(len(b[0])):  \n",
    "        # Calculate the dot product of the i-th row of a and the j-th column of b\n",
    "        for k in range(len(b)):  \n",
    "            # Multiply corresponding elements and add to the current position in c\n",
    "            c[i][j] += a[i][k] * b[k][j]\n",
    "\n",
    "# Print the result\n",
    "print(\"Matrix C (product of A and B):\")\n",
    "for row in c:\n",
    "    print(row)  # Each row of the resulting matrix is printed\n"
   ]
  },
  {
   "cell_type": "markdown",
   "id": "972466be-d4fe-40cc-90ac-b86ea2c2154b",
   "metadata": {},
   "source": [
    "***Activity 4:***\n",
    "* A closed polygon with N sides can be represented as a list of tuples of N connected coordinates, i.e., [ (x1,y1), (x2,y2), (x3,y3), . . . , (xN,yN) ].\n",
    "* Write a python function that takes a list of N tuples as input and returns the perimeter of the polygon.\n",
    "* Remember that your code should work for any value of N. (Hint: A perimeter is the sum of all sides of a polygon)\n"
   ]
  },
  {
   "cell_type": "code",
   "execution_count": 51,
   "id": "6cdc87f1-5ad9-4069-b25b-6f2c24e43352",
   "metadata": {},
   "outputs": [
    {
     "name": "stdout",
     "output_type": "stream",
     "text": [
      "Perimeter of the polygon: 14.0\n"
     ]
    }
   ],
   "source": [
    "import math\n",
    "\n",
    "def calculate_perimeter(polygon):\n",
    "    \n",
    "    perimeter = 0  # Initialize perimeter to 0\n",
    "    n = len(polygon)  # Number of vertices in the polygon\n",
    "    \n",
    "    # Iterate through each vertex\n",
    "    for i in range(n):\n",
    "        # Get the current vertex coordinates\n",
    "        x1, y1 = polygon[i]\n",
    "        # Get the next vertex coordinates (wrap around using modulo operator)\n",
    "        x2, y2 = polygon[(i + 1) % n]\n",
    "        # Calculate the distance between the current vertex and the next vertex\n",
    "        side_length = math.sqrt((x2 - x1) ** 2 + (y2 - y1) ** 2)\n",
    "        # Add the side length to the perimeter\n",
    "        perimeter += side_length\n",
    "    \n",
    "    return perimeter  # Return the total perimeter\n",
    "\n",
    "# Example usage\n",
    "polygon = [(0, 0), (4, 0), (4, 3), (0, 3)]\n",
    "print(\"Perimeter of the polygon:\", calculate_perimeter(polygon))  # Output: 14.0"
   ]
  },
  {
   "cell_type": "markdown",
   "id": "c0dfc4f6-5a46-4fc7-beb6-d9ebf854d0c0",
   "metadata": {},
   "source": [
    "***Activity 5:***\n",
    "* Imagine two sets A and B containing numbers. Without using built-in set functionalities, write your own function that receives two such sets and returns another set C which is a symmetric difference of the two input sets. (A symmetric difference between A and B will return a set C which contains only those items that appear in one of A or B. Any items that appear in both sets are not included in C).\n",
    "* Now compare the output of your function with the following built-in functions/operators.\n",
    "\n",
    "✓ A.symmetric_difference(B)\n",
    "\n",
    "✓ B.symmetric_difference(A)\n",
    "\n",
    "✓ A ^ B\n",
    "\n",
    "✓ B ^ A"
   ]
  },
  {
   "cell_type": "code",
   "execution_count": null,
   "id": "a8411157-330d-46d0-98c6-4754c4cc7dac",
   "metadata": {},
   "outputs": [],
   "source": [
    "def symmetric_difference(set_a, set_b):\n",
    "    result = set()  # Initialize an empty set for the result\n",
    "    \n",
    "    # Add items from set_a that are not in set_b\n",
    "    for item in set_a:\n",
    "        if item not in set_b:\n",
    "            result.add(item)\n",
    "    \n",
    "    # Add items from set_b that are not in set_a\n",
    "    for item in set_b:\n",
    "        if item not in set_a:\n",
    "            result.add(item)\n",
    "    \n",
    "    return result\n",
    "\n",
    "# Example sets\n",
    "A = {1, 2, 3, 4}\n",
    "B = {3, 4, 5, 6}\n",
    "\n",
    "# Print the results\n",
    "print(\"Custom symmetric difference:\", symmetric_difference(A, B))\n",
    "# Compare with built-in functionalities\n",
    "print(\"Built-in symmetric_difference(A, B):\", A.symmetric_difference(B))\n",
    "print(\"Built-in symmetric_difference(B, A):\", B.symmetric_difference(A))\n",
    "print(\"Built-in A ^ B:\", A ^ B)\n",
    "print(\"Built-in B ^ A:\", B ^ A)\n"
   ]
  },
  {
   "cell_type": "markdown",
   "id": "6e2edae1-777a-448d-ae36-f0dbe5cc68fa",
   "metadata": {},
   "source": [
    "***Activity 6:***\n",
    "* Create a Python program that contains a dictionary of names and phone numbers. Use a tuple of separate first and last name values for the key field.\n",
    "*  Initialize the dictionary with at least three names and numbers. Ask the user to search for a phone number by entering a first and last name.\n",
    "*  Display the matching number if found, or a message if not found."
   ]
  },
  {
   "cell_type": "code",
   "execution_count": null,
   "id": "19541431-3a57-4303-a7e0-d0c4f0f0c09d",
   "metadata": {
    "jupyter": {
     "source_hidden": true
    }
   },
   "outputs": [],
   "source": [
    "# Initialize the dictionary with names and phone numbers\n",
    "sample = {\n",
    "    (\"Sohaib\", \"Ali\"): \"3158901234\",\n",
    "    (\"Xabi\", \"Alonso\"): \"3348462389\",\n",
    "    (\"Darth\", \"Vader\"): \"3797896676\",\n",
    "}\n",
    "\n",
    "# Ask the user for input\n",
    "first_name = input(\"Enter the first name: \").strip()\n",
    "last_name = input(\"Enter the last name: \").strip()\n",
    "\n",
    "# Create a key tuple from the input\n",
    "searchTuple = (first_name, last_name)\n",
    "\n",
    "# Search for the phone number\n",
    "if searchTuple in sample:\n",
    "    print(sample[searchTuple])\n",
    "else:\n",
    "    print(\"Name not found\")\n"
   ]
  },
  {
   "cell_type": "markdown",
   "id": "5cb7a0dd-4695-4066-91f8-ee065cbe7ab1",
   "metadata": {},
   "source": [
    "**Graded Lab Tasks**\n",
    "\n",
    "***Lab Task 1:***\n",
    "* Create two lists based on the user values. Merge both the lists and display in sorted order."
   ]
  },
  {
   "cell_type": "code",
   "execution_count": null,
   "id": "d5e8ba23",
   "metadata": {
    "jupyter": {
     "source_hidden": true
    }
   },
   "outputs": [],
   "source": [
    "# Initialize empty lists\n",
    "list1 = []\n",
    "list2 = []\n",
    "\n",
    "# Accept values for list1\n",
    "print(\"Enter objects of list1:\")\n",
    "for i in range(3):\n",
    "    value = input(f\"Enter value {i+1} for list1: \")\n",
    "    value=int(value)\n",
    "    list1.append(value)\n",
    "\n",
    "# Accept values for list2\n",
    "print(\"Enter objects of list2:\")\n",
    "for i in range(3):\n",
    "    value = input(f\"Enter value {i+1} for list2: \")\n",
    "    value=int(value)\n",
    "    list2.append(value)\n",
    "\n",
    "# Merge the lists\n",
    "merged_list = list1 + list2\n",
    "\n",
    "# Sort the merged list\n",
    "sorted_list = sorted(merged_list)\n",
    "\n",
    "# Display the sorted merged list\n",
    "print(\"Sorted merged list:\", sorted_list)"
   ]
  },
  {
   "cell_type": "markdown",
   "id": "9aa1f6b2-4728-4eee-bafb-c6dc9e20a1e9",
   "metadata": {},
   "source": [
    "***Lab Task 2:***\n",
    "* Repeat the above activity to find the smallest and largest element of the list. (Suppose all the elements are integer values)"
   ]
  },
  {
   "cell_type": "code",
   "execution_count": null,
   "id": "bd1c0684-5d01-448e-aa5b-4a9e00927a50",
   "metadata": {
    "jupyter": {
     "source_hidden": true
    }
   },
   "outputs": [],
   "source": [
    "# Find the smallest and largest elements in the merged list\n",
    "smallest_element = min(merged_list)\n",
    "largest_element = max(merged_list)\n",
    "\n",
    "# Display the smallest and largest elements\n",
    "print(\"Smallest element in the list:\", smallest_element)\n",
    "print(\"Largest element in the list:\", largest_element)"
   ]
  },
  {
   "cell_type": "markdown",
   "id": "12f0e31a-66da-4c94-9f3a-ef9932af466d",
   "metadata": {},
   "source": [
    "***Lab Task 3:***\n",
    "* The derivate of a function f(x) is a measurement of how quickly the function f changes with respect to change in its domain x. This measurement can be approximated by the following relation,\n",
    " $$\n",
    "\\frac{f(x+h) - f(x)}{h}\n",
    "$$\n",
    "\n",
    "* Where h represents a small increment in x. You have to prove the following relation\n",
    " $$\n",
    "\\frac{d}{dx} \\sin(x) = \\cos(x)\n",
    "$$\n",
    "\n",
    "* Imagine x being a list that goes from –pi to pi with an increment of 0.001. You can approximate the derivative by using the following approximation,\n",
    " $$\n",
    "\\frac{\\sin(x+h) - \\sin(x)}{h}\n",
    "$$\n",
    "\n",
    "* In your case, assume h = 0.001. That is at each point in x, compute the right hand side of above equation and compare whether the output value is equivalent to cos(x). Also print the corresponding values of ( ) and cos(x) for every point. Type ‘’from math import *’’ at the start of your program to use predefined values of pi, and sin and cos functions. What happens if you increase the interval h from 0.001 to 0.01 and then to 0.1?"
   ]
  },
  {
   "cell_type": "code",
   "execution_count": null,
   "id": "1c3ff4d8-9572-4cdf-9460-9c9123a24ca1",
   "metadata": {
    "jupyter": {
     "source_hidden": true
    }
   },
   "outputs": [],
   "source": [
    "from math import *\n",
    "\n",
    "# Define the range of x from -pi to pi with an increment of 0.001\n",
    "h = 0.001\n",
    "# divide gives the range -3141.59 to 3141.59\n",
    "# multiply by h to get the range -pi to pi \n",
    "x_values = [i * h for i in range(int(-pi/h), int(pi/h) + 1)]\n",
    "\n",
    "# Calculate the derivative approximation and compare it with cos(x)\n",
    "for x in x_values:\n",
    "    derivative_approx = (sin(x + h) - sin(x)) / h  # Approximation of the derivative\n",
    "    cosine_value = cos(x)  # Actual cos(x)\n",
    "    \n",
    "    # Print the values\n",
    "    print(\"x:\", x, \" | Derivative Approximation:\", derivative_approx, \" | cos(x):\", cosine_value)\n"
   ]
  },
  {
   "cell_type": "markdown",
   "id": "2c8ab409-485b-4b12-adb5-b85b46f248b7",
   "metadata": {},
   "source": [
    "***Lab Task 4:***\n",
    "* For this exercise, you will keep track of when our friend’s birthdays are, and be able to find that information based on their name.\n",
    "* Create a dictionary (in your file) of names and birthdays.\n",
    "* When you run your program it should ask the user to enter a name, and return the birthday of that person back to them.\n",
    "* The interaction should look something like this:\n",
    "   Welcome to the birthday dictionary. We know the birthdays of:\n",
    "  \n",
    "Albert Einstein\n",
    "\n",
    "Benjamin Franklin\n",
    "\n",
    "Ada Lovelace\n",
    "* Who's birthday do you want to look up?\n",
    "\n",
    "Benjamin Franklin\n",
    "* Benjamin Franklin's birthday is 01/17/1706."
   ]
  },
  {
   "cell_type": "code",
   "execution_count": null,
   "id": "cdf44430-17f0-4b8c-992a-d5e10ab1d7de",
   "metadata": {
    "jupyter": {
     "source_hidden": true
    }
   },
   "outputs": [],
   "source": [
    "# Dictionary of names and birthdays\n",
    "birthday_dict = {\n",
    "    \"Albert Einstein\": \"03/14/1879\",\n",
    "    \"Benjamin Franklin\": \"01/17/1706\",\n",
    "    \"Ada Lovelace\": \"12/10/1815\",\n",
    "}\n",
    "\n",
    "# Welcome message\n",
    "print(\"Welcome to the birthday dictionary. We know the birthdays of:\")\n",
    "for name in birthday_dict.keys():\n",
    "    print(name)\n",
    "\n",
    "# Ask the user for a name\n",
    "name_to_lookup = input(\"Who's birthday do you want to look up? \")\n",
    "\n",
    "# Find and display the birthday\n",
    "if name_to_lookup in birthday_dict:\n",
    "    print(f\"{name_to_lookup}'s birthday is {birthday_dict[name_to_lookup]}.\")\n",
    "else:\n",
    "    print(f\"Sorry, we don't have the birthday information for {name_to_lookup}.\")\n"
   ]
  },
  {
   "cell_type": "markdown",
   "id": "2d4c06df-ca7e-467a-b334-d05a55c10bbf",
   "metadata": {},
   "source": [
    "***Lab Task 5:***\n",
    "* Create a dictionary by extracting the keys from a given dictionary\n",
    "* Write a Python program to create a new dictionary by extracting the mentioned keys from the below dictionary.\n",
    "* Given dictionary:\n",
    "sample_dict = {\n",
    "\"name\": \"Kelly\",\n",
    "\"age\": 25,\n",
    "\"salary\": 8000,\n",
    "\"city\": \"New york\"}\n",
    "* Keys to extract:  keys = [\"name\", \"salary\"]\n",
    "* Expected output:\n",
    "{'name': 'Kelly', 'salary': 8000}"
   ]
  },
  {
   "cell_type": "code",
   "execution_count": null,
   "id": "ec937097-ae72-467e-b173-0597607037f0",
   "metadata": {
    "jupyter": {
     "source_hidden": true
    }
   },
   "outputs": [],
   "source": [
    "# Given dictionary\n",
    "sample_dict = {\n",
    "    \"name\": \"Kelly\",\n",
    "    \"age\": 25,\n",
    "    \"salary\": 8000,\n",
    "    \"city\": \"New York\"\n",
    "}\n",
    "\n",
    "# Keys to extract\n",
    "keys = [\"name\", \"salary\"]\n",
    "\n",
    "# Create a new dictionary by extracting the specified keys\n",
    "#For each key, it checks if the key exists in sample_dict.\n",
    "#If it does, it adds that key and its corresponding value from sample_dict to new_dict.\n",
    "new_dict = {key: sample_dict[key] for key in keys if key in sample_dict}\n",
    "\n",
    "# Print the new dictionary\n",
    "print(new_dict)\n"
   ]
  },
  {
   "cell_type": "code",
   "execution_count": null,
   "id": "bf2eacdd-0770-4b58-85c5-e42af6ad8e60",
   "metadata": {},
   "outputs": [],
   "source": []
  }
 ],
 "metadata": {
  "kernelspec": {
   "display_name": "Python 3",
   "language": "python",
   "name": "python3"
  },
  "language_info": {
   "codemirror_mode": {
    "name": "ipython",
    "version": 3
   },
   "file_extension": ".py",
   "mimetype": "text/x-python",
   "name": "python",
   "nbconvert_exporter": "python",
   "pygments_lexer": "ipython3",
   "version": "3.12.5"
  }
 },
 "nbformat": 4,
 "nbformat_minor": 5
}
