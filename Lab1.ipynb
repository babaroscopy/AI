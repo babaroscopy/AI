{
 "cells": [
  {
   "cell_type": "markdown",
   "id": "c819caf7-cfa9-4f16-9140-0967b2103a2f",
   "metadata": {},
   "source": [
    " ***Python Revision***\n"
   ]
  },
  {
   "cell_type": "markdown",
   "id": "d5f5b7ce-0418-4ce6-8205-e6a0ebe0fad5",
   "metadata": {},
   "source": [
    "* **Python is dynamically typed.**\n",
    "* You do not need to declare variables! The declaration happens automatically when you assign a value to a variable.\n",
    "* Variables can change type, simply by assigning them a new value of a different type."
   ]
  },
  {
   "cell_type": "markdown",
   "id": "12caf66b-7c7d-4181-b6e6-db9f4a6e8c05",
   "metadata": {},
   "source": [
    "**Integer**"
   ]
  },
  {
   "cell_type": "markdown",
   "id": "6ca17458-40e3-4b54-b0e6-3d5bc540c1b7",
   "metadata": {},
   "source": [
    "* In Python, there is effectively no limit to how long an integer value can be.\n",
    "* Of course, it is constrained by the amount of memory your system has"
   ]
  },
  {
   "cell_type": "code",
   "execution_count": 1,
   "id": "d0d0b556-eced-4640-8ad9-4fa4102e1674",
   "metadata": {},
   "outputs": [
    {
     "name": "stdout",
     "output_type": "stream",
     "text": [
      "123123123123123123123123123123123123123123123124\n",
      "10\n"
     ]
    }
   ],
   "source": [
    "print(123123123123123123123123123123123123123123123123 + 1)\n",
    "print(10)"
   ]
  },
  {
   "cell_type": "markdown",
   "id": "6fa16279-a184-4555-85fd-ac82a13e1f18",
   "metadata": {},
   "source": [
    "* Python interprets a sequence of decimal digits without any prefix to be a decimal number.\n",
    "* The following strings can be prepended to an integer value to indicate a base other than 10:\n",
    "* Binary\n",
    "  * 0b (zero + lowercase letter 'b')\n",
    "  * 0B (zero + uppercase letter 'B')\n",
    "* Octal\n",
    "  * 0o (zero + lowercase letter 'o')\n",
    "  * 0O (zero + uppercase letter 'O')\n",
    "* Hexadecimal\n",
    "  * 0x (zero + lowercase letter 'x')\n",
    "  * 0X (zero + uppercase letter 'X')\n",
    "\n",
    "\n",
    "For Example"
   ]
  },
  {
   "cell_type": "code",
   "execution_count": 2,
   "id": "d3b77f84-1e87-497e-a4a7-290f7d7a21ba",
   "metadata": {},
   "outputs": [
    {
     "name": "stdout",
     "output_type": "stream",
     "text": [
      "8\n",
      "16\n",
      "2\n"
     ]
    }
   ],
   "source": [
    "print(0o10)\n",
    "print(0x10)\n",
    "print(0b10)"
   ]
  },
  {
   "cell_type": "markdown",
   "id": "fd201b70-cfd5-4053-b1a8-52053279cd16",
   "metadata": {},
   "source": [
    "The underlying type of a Python integer, irrespective of the base used to specify it, is called int:"
   ]
  },
  {
   "cell_type": "code",
   "execution_count": 3,
   "id": "46556513-2487-4464-8c3e-20843225f63e",
   "metadata": {},
   "outputs": [
    {
     "data": {
      "text/plain": [
       "int"
      ]
     },
     "execution_count": 3,
     "metadata": {},
     "output_type": "execute_result"
    }
   ],
   "source": [
    "type(10)\n",
    "type(0o10)\n",
    "type(0x10)"
   ]
  },
  {
   "cell_type": "markdown",
   "id": "b37e42ef-246a-4f6e-ab16-8cb866bb6a61",
   "metadata": {},
   "source": [
    "**Floating-Point Numbers**\n",
    "* float values are specified with a decimal point.\n",
    "* Optionally, the character e or E followed by a positive or negative integer may be appended to specify scientific notation"
   ]
  },
  {
   "cell_type": "code",
   "execution_count": 4,
   "id": "b549efd3-27e4-491c-996c-3335d5fc3b2c",
   "metadata": {},
   "outputs": [
    {
     "data": {
      "text/plain": [
       "4.2"
      ]
     },
     "execution_count": 4,
     "metadata": {},
     "output_type": "execute_result"
    }
   ],
   "source": [
    "4.2"
   ]
  },
  {
   "cell_type": "code",
   "execution_count": 5,
   "id": "401986a1-d39a-41da-94b9-c5985be77669",
   "metadata": {},
   "outputs": [
    {
     "data": {
      "text/plain": [
       "float"
      ]
     },
     "execution_count": 5,
     "metadata": {},
     "output_type": "execute_result"
    }
   ],
   "source": [
    "type(4.2)"
   ]
  },
  {
   "cell_type": "code",
   "execution_count": 6,
   "id": "69ef709a-69e3-4f18-82db-1f14563fbafa",
   "metadata": {},
   "outputs": [
    {
     "data": {
      "text/plain": [
       "4000000.0"
      ]
     },
     "execution_count": 6,
     "metadata": {},
     "output_type": "execute_result"
    }
   ],
   "source": [
    ".4e7"
   ]
  },
  {
   "cell_type": "code",
   "execution_count": 7,
   "id": "c0ff907b-1411-46f4-a17b-29e98151e28d",
   "metadata": {},
   "outputs": [
    {
     "data": {
      "text/plain": [
       "0.00042"
      ]
     },
     "execution_count": 7,
     "metadata": {},
     "output_type": "execute_result"
    }
   ],
   "source": [
    "4.2e-4"
   ]
  },
  {
   "cell_type": "markdown",
   "id": "6fb6781d-6bed-4963-8c39-dd33886d2186",
   "metadata": {},
   "source": [
    "* the maximum value a floating-point number can have is approximately 1.8 ⨉ 10308.\n",
    "* Python will indicate a number greater than that by the string inf:"
   ]
  },
  {
   "cell_type": "code",
   "execution_count": 8,
   "id": "60635a56-ad44-4b92-8a10-34db28c67dd9",
   "metadata": {},
   "outputs": [
    {
     "data": {
      "text/plain": [
       "1.79e+308"
      ]
     },
     "execution_count": 8,
     "metadata": {},
     "output_type": "execute_result"
    }
   ],
   "source": [
    "1.79e308"
   ]
  },
  {
   "cell_type": "code",
   "execution_count": 9,
   "id": "65fbe751-3b82-43bc-abc2-8c24b17eff2a",
   "metadata": {},
   "outputs": [
    {
     "data": {
      "text/plain": [
       "inf"
      ]
     },
     "execution_count": 9,
     "metadata": {},
     "output_type": "execute_result"
    }
   ],
   "source": [
    "1.8e308"
   ]
  },
  {
   "cell_type": "markdown",
   "id": "02511433-7f9e-452a-9a14-a7ee14f74d59",
   "metadata": {},
   "source": [
    "* The closest a nonzero number can be to zero is approximately 5.0 ⨉ 10-324.\n",
    "* Anything closer to zero than that is effectively zero:"
   ]
  },
  {
   "cell_type": "code",
   "execution_count": 10,
   "id": "4696f3cd-a1f7-4072-b1c1-fc0e983dcd40",
   "metadata": {},
   "outputs": [
    {
     "data": {
      "text/plain": [
       "5e-324"
      ]
     },
     "execution_count": 10,
     "metadata": {},
     "output_type": "execute_result"
    }
   ],
   "source": [
    "5e-324"
   ]
  },
  {
   "cell_type": "code",
   "execution_count": 11,
   "id": "1b664f8b-d74a-4123-9016-1d058d8d2780",
   "metadata": {},
   "outputs": [
    {
     "data": {
      "text/plain": [
       "0.0"
      ]
     },
     "execution_count": 11,
     "metadata": {},
     "output_type": "execute_result"
    }
   ],
   "source": [
    "1e-325"
   ]
  },
  {
   "cell_type": "markdown",
   "id": "3f6bc96d-eeaa-4c8c-bad1-df1898910df4",
   "metadata": {},
   "source": [
    "**Strings**\n",
    "* Strings are sequences of character data. The string type in Python is called str.\n",
    "* String literals may be delimited using either single or double quotes.\n",
    "* All the characters between the opening delimiter and matching closing delimiter are part of the string:"
   ]
  },
  {
   "cell_type": "code",
   "execution_count": 12,
   "id": "5d084916-64e9-40ae-a70c-14735b6b8630",
   "metadata": {},
   "outputs": [
    {
     "name": "stdout",
     "output_type": "stream",
     "text": [
      "I am a string.\n",
      "I am too.\n"
     ]
    }
   ],
   "source": [
    "print(\"I am a string.\")\n",
    "#type(\"I am a string.\")\n",
    "print('I am too.')\n",
    "#''"
   ]
  },
  {
   "cell_type": "markdown",
   "id": "515dcfab-a308-4a42-b1f1-3282ea29042b",
   "metadata": {},
   "source": [
    "* What if you want to include a quote character as part of the string itself?"
   ]
  },
  {
   "cell_type": "code",
   "execution_count": 14,
   "id": "6b462a49-9580-43be-8ff4-5d5fe0bda0ea",
   "metadata": {},
   "outputs": [
    {
     "name": "stdout",
     "output_type": "stream",
     "text": [
      "This string contains a single quote (') character.\n"
     ]
    }
   ],
   "source": [
    "print(\"This string contains a single quote (') character.\")"
   ]
  },
  {
   "cell_type": "markdown",
   "id": "1b2f2699-be6a-47d3-ad83-f793fd242d0d",
   "metadata": {},
   "source": [
    "* the simplest way is to delimit the string with the other type of quote character.\n",
    "* If a string is to contain a single quote, delimit it with double quotes and vice versa:"
   ]
  },
  {
   "cell_type": "code",
   "execution_count": null,
   "id": "1b4833aa-f09f-45cc-97e0-df82c644391e",
   "metadata": {},
   "outputs": [],
   "source": [
    "print(\"This string contains a single quote (') character.\")\n",
    "print('This string contains a double quote (\") character.')"
   ]
  },
  {
   "cell_type": "markdown",
   "id": "9ba7e40b-0a7d-4848-bd5b-472f49ca925a",
   "metadata": {},
   "source": [
    "**Escape Sequences in Strings**\n",
    "* A backslash character in a string indicates that one or more characters that follow it should be treated specially."
   ]
  },
  {
   "cell_type": "code",
   "execution_count": null,
   "id": "1f5d797a-747d-4b61-816f-37bffb02081b",
   "metadata": {},
   "outputs": [],
   "source": [
    "print('This string contains a single quote (\\') character.')\n",
    "print(\"This string contains a double quote (\\\") character.\")"
   ]
  },
  {
   "cell_type": "markdown",
   "id": "a23df1dc-c83a-4313-aa5b-22c35cfeab84",
   "metadata": {},
   "source": [
    "* **Escape Sequences**\n",
    "* \\\\'\n",
    "  * Terminates string with single quote opening delimiter\n",
    "* \\\\\"\n",
    "  * Terminates string with double quote opening delimiter\n",
    "* \\\\(newline)\n",
    "  * Terminates input line\n",
    "* \\ \\\\\n",
    "  * Introduces escape sequence\n",
    "* \\t\n",
    "  * insert tab\n",
    "* \\n\n",
    "  * inserts new line\n",
    "* \\b\n",
    "  * inserts backspace"
   ]
  },
  {
   "cell_type": "code",
   "execution_count": 15,
   "id": "656a3ff4-faf7-458d-9532-ca163373e862",
   "metadata": {},
   "outputs": [
    {
     "name": "stdout",
     "output_type": "stream",
     "text": [
      "abc\n",
      "foo\\bar\n",
      "a\tb\n",
      "a\n",
      "b\n",
      "b\n"
     ]
    }
   ],
   "source": [
    "print('a\\\n",
    "b\\\n",
    "c')\n",
    "\n",
    "\n",
    "\n",
    "print('foo\\\\bar')\n",
    "\n",
    "print(\"a\\tb\")\n",
    "print(\"a\\nb\")\n",
    "print(\"a\\bb\")"
   ]
  },
  {
   "cell_type": "markdown",
   "id": "027158f2-59f3-40ce-a0a7-76eeb19322dc",
   "metadata": {},
   "source": [
    "* **Raw Strings**\n",
    "* A raw string literal is preceded by r or R, which specifies that escape sequences in the associated string are not translated.\n",
    "* The backslash character is left in the string:"
   ]
  },
  {
   "cell_type": "code",
   "execution_count": 16,
   "id": "e0d6ced1-c855-4a82-a838-4798841d4b24",
   "metadata": {},
   "outputs": [
    {
     "name": "stdout",
     "output_type": "stream",
     "text": [
      "foo\n",
      "bar\n",
      "foo\\nbar\n",
      "foo\\bar\n",
      "foo\\\\bar\n"
     ]
    }
   ],
   "source": [
    "print('foo\\nbar')\n",
    "\n",
    "print(r'foo\\nbar')\n",
    "\n",
    "print('foo\\\\bar')\n",
    "print(R'foo\\\\bar')"
   ]
  },
  {
   "cell_type": "markdown",
   "id": "2fa72d6a-e073-4ba4-9564-fdb2bd00a7b7",
   "metadata": {},
   "source": [
    "* **Triple-Quoted Strings**\n",
    "* Triple-quoted strings are delimited by matching groups of three single quotes or three double quotes.\n",
    "* Escape sequences still work in triple-quoted strings, but single quotes, double quotes, and newlines can be included without escaping them."
   ]
  },
  {
   "cell_type": "code",
   "execution_count": 17,
   "id": "0460e925-e8e0-4f7e-bbe3-29dc23e309df",
   "metadata": {},
   "outputs": [
    {
     "name": "stdout",
     "output_type": "stream",
     "text": [
      "This string has a single (') and a double (\") quote.\n",
      "This is a string\n",
      "that spans across\n",
      "several lines\n"
     ]
    }
   ],
   "source": [
    "print('''This string has a single (') and a double (\") quote.''')\n",
    "print(\"\"\"This is a string\n",
    "that spans across\n",
    "several lines\"\"\")"
   ]
  },
  {
   "cell_type": "markdown",
   "id": "3531771e-a3c2-4a69-bc74-79a025adf76b",
   "metadata": {},
   "source": [
    "**Boolean Type**\n",
    "* Python 3 provides a Boolean data type.\n",
    "* Objects of Boolean type may have one of two values, True or False:"
   ]
  },
  {
   "cell_type": "code",
   "execution_count": 18,
   "id": "e85a2a5e-e265-486a-9031-cc49511458ca",
   "metadata": {},
   "outputs": [
    {
     "data": {
      "text/plain": [
       "bool"
      ]
     },
     "execution_count": 18,
     "metadata": {},
     "output_type": "execute_result"
    }
   ],
   "source": [
    "type(True)"
   ]
  },
  {
   "cell_type": "code",
   "execution_count": 19,
   "id": "2f24a33f-469a-4991-8097-1727cd79b4e4",
   "metadata": {},
   "outputs": [
    {
     "data": {
      "text/plain": [
       "bool"
      ]
     },
     "execution_count": 19,
     "metadata": {},
     "output_type": "execute_result"
    }
   ],
   "source": [
    "type(False)"
   ]
  },
  {
   "cell_type": "markdown",
   "id": "740e25d1-e70b-4da8-a3ef-723a5cd18686",
   "metadata": {},
   "source": [
    "**Indentation as a control structure**"
   ]
  },
  {
   "cell_type": "markdown",
   "id": "0b2a7c0b-6f9d-488a-ba69-9bcd600afe22",
   "metadata": {},
   "source": [
    "* Indentation is used in Python to delimit blocks.\n",
    "* The number of spaces is variable, but all statements within the same block must be indented the same amount.\n",
    "* The header line for compound statements, such as if, while, def, and class should be terminated with a colon ( : )"
   ]
  },
  {
   "cell_type": "code",
   "execution_count": 20,
   "id": "69fdb25d-a713-461b-b85f-89c8fe354385",
   "metadata": {},
   "outputs": [
    {
     "name": "stdout",
     "output_type": "stream",
     "text": [
      "0\n",
      "Bingo!\n",
      "---\n",
      "---\n",
      "---\n",
      "3\n",
      "---\n",
      "---\n",
      "Bingo!\n",
      "---\n",
      "6\n",
      "---\n",
      "---\n",
      "---\n",
      "9\n",
      "---\n",
      "Bingo!\n",
      "---\n",
      "---\n",
      "12\n",
      "---\n",
      "---\n",
      "---\n",
      "15\n",
      "Bingo!\n",
      "---\n",
      "---\n",
      "---\n",
      "18\n",
      "---\n",
      "---\n"
     ]
    }
   ],
   "source": [
    "for i in range(20):\n",
    "    if i%3 == 0:\n",
    "        print (i)\n",
    "    if i%5 == 0:\n",
    "        print (\"Bingo!\")\n",
    "    print (\"---\")"
   ]
  },
  {
   "cell_type": "markdown",
   "id": "69654471-52a8-4c71-9c66-6e4f64886d7d",
   "metadata": {},
   "source": [
    "* range(start, stop, step)\n",
    "* start (optional) – The starting number (default is 0).\n",
    "* stop (required) – The end of the sequence (exclusive, meaning it is not included).\n",
    "* step (optional) – The difference between consecutive numbers (default is 1)."
   ]
  },
  {
   "cell_type": "code",
   "execution_count": 23,
   "id": "122a7caf-f157-4ba2-b7e0-4d5132998c92",
   "metadata": {},
   "outputs": [],
   "source": [
    "for i in range(10, 0, 2):\n",
    "    print(i)"
   ]
  },
  {
   "cell_type": "markdown",
   "id": "d9643ea5-a188-4ff1-a6a2-66f9834e33f8",
   "metadata": {},
   "source": [
    "**Conditional Structure**\n",
    "* The if statement executes a block of code only if a condition is True.\n",
    "* The if-else statement executes one block if the condition is True and another block if it is False.\n",
    "* if-elif-else Statement is used when multiple conditions need to be checked."
   ]
  },
  {
   "cell_type": "code",
   "execution_count": 27,
   "id": "ccb59e53-95cd-42e7-a649-e2a8a5da7956",
   "metadata": {},
   "outputs": [
    {
     "name": "stdout",
     "output_type": "stream",
     "text": [
      "fail\n"
     ]
    }
   ],
   "source": [
    "marks=49\n",
    "if marks>50:\n",
    "    print(\"pass\")\n",
    "else:\n",
    "    print(\"fail\")"
   ]
  },
  {
   "cell_type": "code",
   "execution_count": null,
   "id": "1ebbbe92-075a-4e80-ad8f-053020c54e41",
   "metadata": {},
   "outputs": [],
   "source": [
    "x = 0\n",
    "if x > 0:\n",
    "    print(\"Positive number\")\n",
    "elif x < 0:\n",
    "    print(\"Negative number\")\n",
    "else:\n",
    "    print(\"Zero\")\n"
   ]
  },
  {
   "cell_type": "markdown",
   "id": "4c8e4152-79ce-439c-a19e-ba4498a4b52f",
   "metadata": {},
   "source": [
    "**Iterations**\n",
    "* while Loop executes a block of code as long as a condition is True.\n",
    "* for Loop is used to iterate over a sequence (list, tuple, string, range, etc.)"
   ]
  },
  {
   "cell_type": "code",
   "execution_count": 28,
   "id": "43d4bb20-6d05-414b-a93c-3150cc86df74",
   "metadata": {},
   "outputs": [
    {
     "name": "stdout",
     "output_type": "stream",
     "text": [
      "1\n",
      "2\n",
      "3\n",
      "4\n",
      "5\n"
     ]
    }
   ],
   "source": [
    "x = 1\n",
    "while x <= 5:\n",
    "    print(x)\n",
    "    x += 1"
   ]
  },
  {
   "cell_type": "code",
   "execution_count": 29,
   "id": "f1697aa0-4b28-4023-869b-372aee7923ac",
   "metadata": {},
   "outputs": [
    {
     "name": "stdout",
     "output_type": "stream",
     "text": [
      "1\n",
      "2\n",
      "3\n",
      "4\n",
      "5\n"
     ]
    }
   ],
   "source": [
    "for i in range(1, 6):\n",
    "    print(i)"
   ]
  },
  {
   "cell_type": "markdown",
   "id": "d66124b9-dc29-44a4-90ef-947f86c3fce2",
   "metadata": {},
   "source": [
    "**Activity 1:** <br> Let us take an integer from user as input and check whether the given value is even or not."
   ]
  },
  {
   "cell_type": "code",
   "execution_count": 30,
   "id": "f42d67d4-ebdb-4a77-a48f-b0ce4087fd35",
   "metadata": {},
   "outputs": [
    {
     "name": "stdout",
     "output_type": "stream",
     "text": [
      "Enter a number  23\n"
     ]
    },
    {
     "name": "stdout",
     "output_type": "stream",
     "text": [
      "Odd Number\n"
     ]
    }
   ],
   "source": [
    "n=input(\"Enter a number \")\n",
    "if int(n)%2==0:\n",
    "    print(\"Even Number\")\n",
    "else:\n",
    "    print(\"Odd Number\")"
   ]
  },
  {
   "cell_type": "markdown",
   "id": "00040604-1906-4b52-a3d1-9d841437601a",
   "metadata": {},
   "source": [
    "**Activity 2:** <br>Write a Python code to keep accepting integer values from user until 0 is entered. Display sum of the given values."
   ]
  },
  {
   "cell_type": "code",
   "execution_count": 31,
   "id": "547d3bb7-2c90-4860-870f-b6fe88d0ce84",
   "metadata": {},
   "outputs": [
    {
     "name": "stdout",
     "output_type": "stream",
     "text": [
      "Enter an integer value.. 4\n",
      "Enter an integer value.. 5\n",
      "Enter an integer value.. 2\n",
      "Enter an integer value.. 0\n"
     ]
    },
    {
     "name": "stdout",
     "output_type": "stream",
     "text": [
      "Sum of values is:  11\n"
     ]
    }
   ],
   "source": [
    "sum=0\n",
    "s=input(\"Enter an integer value..\")\n",
    "n=int(s)\n",
    "while n!=0:\n",
    "    sum=sum+n\n",
    "    s=input(\"Enter an integer value..\")\n",
    "    n=int(s)\n",
    "print(\"Sum of values is: \",sum)"
   ]
  },
  {
   "cell_type": "markdown",
   "id": "06342451-85c6-4a8e-8a89-890889bad311",
   "metadata": {},
   "source": [
    "**Activity 3:** <br> Write a Python code to accept an integer value from user and check that whether the given value is prime number or not."
   ]
  },
  {
   "cell_type": "code",
   "execution_count": 32,
   "id": "db17085f-d31c-4ca1-8664-7994df02721a",
   "metadata": {},
   "outputs": [
    {
     "name": "stdout",
     "output_type": "stream",
     "text": [
      "enter a number 67\n"
     ]
    },
    {
     "name": "stdout",
     "output_type": "stream",
     "text": [
      "Number is Prime\n"
     ]
    }
   ],
   "source": [
    "isprime=True\n",
    "i=2\n",
    "n=int(input(\"enter a number\"))\n",
    "while i<n:\n",
    "    if n%i==0:\n",
    "        isprime=False\n",
    "        break\n",
    "    else:\n",
    "        i=i+1\n",
    "\n",
    "if isprime:\n",
    "    print(\"Number is Prime\")\n",
    "else:\n",
    "    print(\"Number is Not Prime\")"
   ]
  },
  {
   "cell_type": "markdown",
   "id": "a48a198d-ca9c-468d-9540-5503f34c3b33",
   "metadata": {},
   "source": [
    "**Activity 4:** <br>\n",
    "Accept 5 integer values from user and display their sum."
   ]
  },
  {
   "cell_type": "code",
   "execution_count": null,
   "id": "69f2ccdc-6596-4eba-b11b-a4774e2ca40b",
   "metadata": {},
   "outputs": [],
   "source": [
    "sum=0\n",
    "i=0\n",
    "while i<=4:\n",
    "    s=input(\"enter a number\")\n",
    "    n=int(s)\n",
    "    sum=sum+n\n",
    "    i=i+1\n",
    "\n",
    "print(\"sum is:\",sum)"
   ]
  },
  {
   "cell_type": "markdown",
   "id": "c03533e6-0548-4531-b2c6-5152835914cb",
   "metadata": {},
   "source": [
    "**Activity 5:** <br>\n",
    "Calculate the sum of all the values between 0-10 using while loop."
   ]
  },
  {
   "cell_type": "code",
   "execution_count": null,
   "id": "9a2e3f31-5159-4004-84e1-14b5811ea84b",
   "metadata": {},
   "outputs": [],
   "source": [
    "sum=0\n",
    "i=1\n",
    "while i<=10:\n",
    "    sum=sum+i\n",
    "    i=i+1\n",
    "    \n",
    "print(\"sum is\", sum)"
   ]
  },
  {
   "cell_type": "markdown",
   "id": "48aaf244-d6b2-42bc-91bc-1626dbc84eb7",
   "metadata": {},
   "source": [
    "**Activity 6:**\n",
    "Take input from the keyboard and use it in your program."
   ]
  },
  {
   "cell_type": "code",
   "execution_count": null,
   "id": "df11bd22-91d8-41e5-8e14-139ab58f6709",
   "metadata": {},
   "outputs": [],
   "source": [
    "name = input('What is your name? ')\n",
    "print('Hello ' + name)\n",
    "job = input('What is your job? ')\n",
    "print('Your job is ' + job)\n",
    "num = input('Give me a number? ')\n",
    "print('You said: ' + str(num))"
   ]
  },
  {
   "cell_type": "markdown",
   "id": "a5e5b868",
   "metadata": {},
   "source": [
    "**Activity 7**\n",
    "Generate a random number between 1 and 9 (including 1 and 9). Ask the user to guess the number, then tell them whether they guessed too low, too high, or exactly right. (Hint: remember to use the user input lessons from the very first exercise)\n",
    "Extras:\n",
    "Keep the game going until the user types “exit”\n",
    "Keep track of how many guesses the user has taken, and when the game ends, print this out."
   ]
  },
  {
   "cell_type": "code",
   "execution_count": null,
   "id": "32371331-2c3e-4314-9467-5b839ac94893",
   "metadata": {},
   "outputs": [],
   "source": [
    "import random\n",
    "\n",
    "number_to_guess = random.randint(1, 9)\n",
    "guess_count = 0\n",
    "\n",
    "while True:\n",
    "    user_guess = input(\"Guess the number between 1 and 9 (or type 'exit' to quit): \")\n",
    "    \n",
    "    if user_guess.lower() == 'exit':\n",
    "        break\n",
    "    \n",
    "    guess_count += 1\n",
    "    user_guess = int(user_guess)\n",
    "    \n",
    "    if user_guess < number_to_guess:\n",
    "        print(\"Too low!\")\n",
    "    elif user_guess > number_to_guess:\n",
    "        print(\"Too high!\")\n",
    "    else:\n",
    "        print(\"Exactly right!\")\n",
    "        break\n",
    "\n",
    "print(f\"You took {guess_count} guesses.\")"
   ]
  },
  {
   "cell_type": "code",
   "execution_count": null,
   "id": "9521240e-9ac4-4952-9ba5-4502f3993269",
   "metadata": {},
   "outputs": [],
   "source": [
    "import random\n",
    "# Awroken\n",
    "MINIMUM = 1\n",
    "MAXIMUM = 9\n",
    "NUMBER = random.randint(MINIMUM, MAXIMUM)\n",
    "GUESS = None\n",
    "ANOTHER = None\n",
    "TRY = 0\n",
    "RUNNING = True\n",
    "print \"Alright...\"\n",
    "while RUNNING:\n",
    "    GUESS = raw_input(\"What is your lucky number? \")\n",
    "    if int(GUESS) < NUMBER:\n",
    "        print \"Wrong, too low.\"\n",
    "    elif int(GUESS) > NUMBER:\n",
    "        print \"Wrong, too high.\"\n",
    "    elif GUESS.lower() == \"exit\":\n",
    "        print \"Better luck next time.\"\n",
    "    elif int(GUESS) == NUMBER:\n",
    "        print \"Yes, that's the one, %s.\" % str(NUMBER)\n",
    "        if TRY < 2:\n",
    "            print \"Impressive, only %s tries.\" % str(TRY)\n",
    "        elif TRY > 2 and TRY < 10:\n",
    "            print \"Pretty good, %s tries.\" % str(TRY)\n",
    "        else:\n",
    "            print \"Bad, %s tries.\" % str(TRY)\n",
    "        RUNNING = False\n",
    "    TRY += 1"
   ]
  },
  {
   "cell_type": "markdown",
   "id": "1b22aa1d-fad6-4d18-9b1f-0509b7ed33c9",
   "metadata": {},
   "source": [
    "**Graded Tasks/Activities**"
   ]
  },
  {
   "cell_type": "markdown",
   "id": "4fb3b6bb-e54e-4efe-b922-d75131fb261f",
   "metadata": {},
   "source": [
    "**Lab Task 1:** <br>\n",
    "Write a program that prompts the user to input an integer and then outputs the number with the digits reversed.<br>For example, if the input is 12345, the output should be 54321."
   ]
  },
  {
   "cell_type": "code",
   "execution_count": null,
   "id": "c1b0b9f1-119a-4ce6-9ac1-4303216f3d41",
   "metadata": {},
   "outputs": [],
   "source": [
    "num = int(input(\"Enter an integer: \"))\n",
    "reversed_num = 0\n",
    "\n",
    "while num != 0:\n",
    "    digit = num % 10\n",
    "    reversed_num = reversed_num * 10 + digit\n",
    "    num = num // 10\n",
    "\n",
    "print(\"Reversed number:\", reversed_num)"
   ]
  },
  {
   "cell_type": "markdown",
   "id": "12a62384-8e25-4edb-8543-1df39a5ab3ff",
   "metadata": {},
   "source": [
    "**Lab Task 2:** <br>\n",
    "Write a program that reads a set of 10 integers, and then prints the sum of the even and odd integers."
   ]
  },
  {
   "cell_type": "code",
   "execution_count": null,
   "id": "c790991d-3224-4923-bb1e-856c078c9011",
   "metadata": {},
   "outputs": [],
   "source": [
    "even_sum = 0\n",
    "odd_sum = 0\n",
    "\n",
    "for _ in range(10):\n",
    "    num = int(input(\"Enter an integer: \"))\n",
    "    if num % 2 == 0:\n",
    "        even_sum += num\n",
    "    else:\n",
    "        odd_sum += num\n",
    "\n",
    "print(\"Sum of even integers:\", even_sum)\n",
    "print(\"Sum of odd integers:\", odd_sum)"
   ]
  },
  {
   "cell_type": "markdown",
   "id": "ab25295b",
   "metadata": {},
   "source": [
    "**Lab Task 3** <br>\n",
    "Fibonacci series is that when you add the previous two numbers the next number is formed. You have to start from 0 and 1. E.g. 0+1=1 → 1+1=2 → 1+2=3 → 2+3=5 → 3+5=8 → 5+8=13\n",
    "So the series becomes 0 1 1 2 3 5 8 13 21 34 55 ……………………………………\n",
    "Steps: You have to take an input number that shows how many terms to be displayed. Then use loops for displaying the Fibonacci series up to that term e.g. input no is =6 the output should be 0 1 1 2 3 5"
   ]
  },
  {
   "cell_type": "code",
   "execution_count": null,
   "id": "307b72eb",
   "metadata": {},
   "outputs": [],
   "source": [
    "terms = int(input(\"Enter the number of terms: \"))\n",
    "a, b = 0, 1\n",
    "count = 0\n",
    "\n",
    "if terms <= 0:\n",
    "    print(\"Please enter a positive integer\")\n",
    "elif terms == 1:\n",
    "    print(\"Fibonacci sequence up to\", terms, \":\")\n",
    "    print(a)\n",
    "else:\n",
    "    print(\"Fibonacci sequence:\")\n",
    "    while count < terms:\n",
    "        print(a, end=\" \")\n",
    "        nth = a + b\n",
    "        a = b\n",
    "        b = nth\n",
    "        count += 1"
   ]
  },
  {
   "cell_type": "markdown",
   "id": "3c29df1b-b6d5-43b2-ac66-798fcc6b3495",
   "metadata": {},
   "source": [
    "**Lab Task 4:** <br>\n",
    "Write a Python code to accept marks of a student from 1-100 and display the grade according to the following formula.<br>\n",
    "Grade F if marks are less than 50<br>Grade E if marks are between 50 to 60<br>Grade D if marks are between 61 to 70<br>Grade C if marks are between 71 to 80<br>Grade B if marks are between 81 to 90<br>Grade A if marks are between 91 to 100"
   ]
  },
  {
   "cell_type": "code",
   "execution_count": null,
   "id": "810fb636-1e92-4bf4-9725-7c4c17a5b8f9",
   "metadata": {
    "vscode": {
     "languageId": "ruby"
    }
   },
   "outputs": [],
   "source": [
    "marks = int(input(\"Enter marks (1-100): \"))\n",
    "\n",
    "if marks < 50:\n",
    "    grade = 'F'\n",
    "elif 50 <= marks <= 60:\n",
    "    grade = 'E'\n",
    "elif 61 <= marks <= 70:\n",
    "    grade = 'D'\n",
    "elif 71 <= marks <= 80:\n",
    "    grade = 'C'\n",
    "elif 81 <= marks <= 90:\n",
    "    grade = 'B'\n",
    "elif 91 <= marks <= 100:\n",
    "    grade = 'A'\n",
    "else:\n",
    "    grade = 'Invalid marks'\n",
    "\n",
    "print(f\"The grade is: {grade}\")"
   ]
  },
  {
   "cell_type": "markdown",
   "id": "98c7f08f-060f-456b-afc9-246cee01d4e9",
   "metadata": {},
   "source": [
    "**Lab Task 5:** <br> \n",
    "Write a program that takes a number from user and calculate the factorial of that number."
   ]
  },
  {
   "cell_type": "code",
   "execution_count": null,
   "id": "c95c06f9-3f4c-4e76-9da8-ece26d64acc8",
   "metadata": {},
   "outputs": [],
   "source": [
    "num = int(input(\"Enter a number: \"))\n",
    "factorial = 1\n",
    "\n",
    "if num < 0:\n",
    "    print(\"Factorial does not exist for negative numbers\")\n",
    "elif num == 0:\n",
    "    print(\"The factorial of 0 is 1\")\n",
    "else:\n",
    "    for i in range(1, num + 1):\n",
    "        factorial *= i\n",
    "    print(f\"The factorial of {num} is {factorial}\")"
   ]
  }
 ],
 "metadata": {
  "kernelspec": {
   "display_name": "Python 3",
   "language": "python",
   "name": "python3"
  },
  "language_info": {
   "codemirror_mode": {
    "name": "ipython",
    "version": 3
   },
   "file_extension": ".py",
   "mimetype": "text/x-python",
   "name": "python",
   "nbconvert_exporter": "python",
   "pygments_lexer": "ipython3",
   "version": "3.12.5"
  }
 },
 "nbformat": 4,
 "nbformat_minor": 5
}
