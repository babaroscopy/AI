{
 "cells": [
  {
   "cell_type": "markdown",
   "id": "26a94f59-761c-4433-bec8-16de0ac9e1ee",
   "metadata": {},
   "source": [
    "***Hill Climbing Search***"
   ]
  },
  {
   "cell_type": "markdown",
   "id": "2c7e6eea",
   "metadata": {},
   "source": [
    "* Hill Climbing is a heuristic search used for mathematical optimization problems in the field of Artificial Intelligence. \n",
    "* Given a large set of inputs and a good heuristic function, it tries to find a sufficiently good solution to the problem.\n",
    "* This solution may not be the global optimal maximum."
   ]
  },
  {
   "cell_type": "markdown",
   "id": "8bfc606b",
   "metadata": {},
   "source": [
    "* Features of Hill Climbing\n",
    "* 1. Variant of generate and test algorithm: It is a variant of generating and test algorithm. The generate and test algorithm is as follows :\n",
    "        1. Generate possible solutions.\n",
    "        2. Test to see if this is the expected solution.\n",
    "        3. If the solution has been found quit else go to step 1. \n",
    "\n",
    "Hence we call Hill climbing a variant of generating and test algorithm as it takes the feedback from the test procedure. Then this feedback is utilized by the generator in deciding the next move in search space.\n",
    "* 2. Uses the Greedy approach: At any point in state space, the search moves in that direction only which optimizes the cost of function with the hope of finding the optimal solution at the end."
   ]
  },
  {
   "cell_type": "markdown",
   "id": "c6170ba8",
   "metadata": {},
   "source": [
    "**Types of Hill Climbing:**\n",
    " 1. *Simple Hill climbing:* It examines the neighboring nodes one by one and selects the first neighboring node which optimizes the current cost as the next node.\n",
    " 2. *Steepest-Ascent Hill climbing:* It first examines all the neighboring nodes and then selects the node closest to the solution state as of the next node.\n",
    " 3. *Stochastic hill climbing:* It does not examine all the neighboring nodes before deciding which node to select. It just selects a neighboring node at random and decides (based on the amount of improvement in that neighbor) whether to move to that neighbor or to examine another."
   ]
  },
  {
   "attachments": {
    "image.png": {
     "image/png": "[encoded data removed]"
    }
   },
   "cell_type": "markdown",
   "id": "4e84ce82-d1df-4056-b30b-701b82d837de",
   "metadata": {},
   "source": [
    "*Activity 1:*\n",
    "* Consider a maze as shown below. Each empty tile represents a separate node in the graph, while the walls are represented by blue tiles. Your starting node is A and the goal is to reach Y. Implement an A* search to find the resulting path.\n",
    "\n",
    "![image.png](attachment:image.png)"
   ]
  },
  {
   "cell_type": "markdown",
   "id": "083f3b70-1c8b-47b2-a7c0-42d69292c09b",
   "metadata": {},
   "source": [
    "Instead of maintaining a fringe or a frontier to save the nodes that are to be explored, hill climbing just explores the best child of a given node, then explores the best grandchild of a particular child and so on and so forth.The Node class is used to represent a node in the graph."
   ]
  },
  {
   "cell_type": "code",
   "execution_count": 1,
   "id": "7b440872-1f3a-491c-946e-c8d57b840fe2",
   "metadata": {},
   "outputs": [],
   "source": [
    "import math\n",
    "# Node class representing a state or city in the graph\n",
    "class Node:\n",
    "    def __init__(self, state, parent, actions, totalCost, heuristic):\n",
    "        self.state = state  # State name\n",
    "        self.parent = parent  # Parent state in the path\n",
    "        self.actions = actions  # List of neighboring states with cost\n",
    "        self.totalCost = totalCost  # Cost to reach this node\n",
    "        self.heuristic = heuristic  # Straight-line distance to Goal"
   ]
  },
  {
   "cell_type": "markdown",
   "id": "0619e69e-c19f-49d3-92bc-32f6c9dcc6f6",
   "metadata": {},
   "source": [
    "* **Euclidean Distance:** straight-line distance between two points\n",
    "* ***d = √[(x2 - x1)² + (y2 - y1)²]*** \n",
    "* **Manhattan Distance:** distance along grid lines (like city blocks)\n",
    "* ***d = |x2 - x1| + |y2 - y1|***"
   ]
  },
  {
   "cell_type": "code",
   "execution_count": 2,
   "id": "33c7f07b-8781-4891-9ecf-4c66bed6f6e3",
   "metadata": {},
   "outputs": [],
   "source": [
    "\n",
    "# Hill Climbing Algorithm\n",
    "def hillclimbing():\n",
    "    initialState = 'A'  # Starting point of the search\n",
    "    goalState = 'Y'     # Goal point of the search\n",
    "\n",
    "    # Graph representation with heuristic values as coordinates\n",
    "    # A dictionary where keys are node names ('A', 'B', etc.), and values are Node objects\n",
    "    # Heuristic Values Represent coordinates\n",
    "    graph = {\n",
    "        'A': Node('A', None, [('F', 1)], 0, (0,0)),\n",
    "        'B': Node('B', None, [('G', 1),('C', 1)], 0, (2, 0)),\n",
    "        'C': Node('C', None, [('H', 1),('D', 1)], 0, (3, 0)),\n",
    "        'D': Node('D', None, [('I', 1),('E', 1)], 0, (4, 0)),\n",
    "        'E': Node('E', None, [('D', 1)], 0, (5, 0)),\n",
    "        'F': Node('F', None, [('A', 1),('H', 1)], 0, (0, 1)),\n",
    "        'G': Node('G', None, [('B', 1),('J', 1),], 0, (2, 1)),\n",
    "        'H': Node('H', None, [('F', 1),('I', 1),('M', 1)], 0, (0, 2)),\n",
    "        'I': Node('I', None, [('H', 1),('J', 1),('N', 1)], 0, (1, 2)),\n",
    "        'J': Node('J', None, [('G', 1),('I', 1)], 0, (2, 2)),\n",
    "        'K': Node('K', None, [('L', 1),('P', 1)], 0, (4, 2)),\n",
    "        'L': Node('L', None, [('K', 1),('Q', 1)], 0, (5, 2)),\n",
    "        'M': Node('M', None, [('H', 1),('N', 1),('R', 1)], 0, (0, 3)),\n",
    "        'N': Node('N', None, [('I', 1),('M', 1),('S', 1)], 0, (1, 3)),\n",
    "        'O': Node('O', None, [('P', 1),('U', 1)], 0, (3, 3)),\n",
    "        'P': Node('P', None, [('O', 1),('Q', 1)], 0, (4, 3)),\n",
    "        'Q': Node('Q', None, [('L', 1),('P', 1),('V', 1)], 0, (5, 3)),\n",
    "        'R': Node('R', None, [('M', 1),('S', 1)], 0, (0, 4)),\n",
    "        'S': Node('S', None, [('N', 1),('R', 1),('T', 1)], 0, (1, 4)),\n",
    "        'T': Node('T', None, [('S', 1),('U', 1),('W', 1)], 0, (2, 4)),\n",
    "        'U': Node('U', None, [('O', 1),('T', 1)], 0, (3, 4)),\n",
    "        'V': Node('V', None, [('Q', 1),('Y', 1)], 0, (5, 4)),\n",
    "        'W': Node('W', None, [('T', 1)], 0, (2, 5)),\n",
    "        'X': Node('X', None, [('Y', 1)], 0, (4, 5)),\n",
    "        'Y': Node('Y', None, [('V', 1),('X', 1)], 0, (5, 5))\n",
    "    }\n",
    "\n",
    "    parentNode=initialState\n",
    "    \n",
    "    # Calculate the heuristic cost for the initial state\n",
    "    # Computes the Euclidean distance from 'A' to 'Y' (i.e., straight-line distance).\n",
    "    parentCost=math.sqrt(((graph[goalState].heuristic[0] - graph[initialState].heuristic[0]) ** 2) + (graph[goalState].heuristic[1] - graph[initialState].heuristic[1]) ** 2)\n",
    "    \n",
    "    explored=[]  # Tracks visited nodes\n",
    "    solution=[]  # Stores the path to the goal state\n",
    "    minChildCost=parentCost-1  # Ensures first child is considered (Initialize minimum child cost slightly less to enter loop)\n",
    "\n",
    "    # Continues until the current node (parentNode) reaches the goal ('Y')\n",
    "    while parentNode!=goalState:\n",
    "        # Get the child nodes and their costs\n",
    "        # # In each iteration, select the best move\n",
    "        bestNode=parentNode\n",
    "        minChildCost=parentCost\n",
    "        explored.append(parentNode)  # # Mark current node as explored\n",
    "\n",
    "        # Check all children (neighbors) of the current parent node\n",
    "        for child in graph[parentNode].actions:\n",
    "            if child[0] not in explored:\n",
    "                # Calculate the heuristic cost for the child node\n",
    "                childCost=math.sqrt(((graph[goalState].heuristic[0] - graph[child[0]].heuristic[0]) ** 2) +\n",
    "                                 ((graph[goalState].heuristic[1] - graph[child[0]].heuristic[1]) ** 2))\n",
    "            \n",
    "            # Compare with current minimum cost, pick the child with smaller heuristic cost\n",
    "            if childCost<minChildCost:\n",
    "                bestNode=child[0]\n",
    "                minChildCost=childCost\n",
    "\n",
    "        if bestNode==parentNode:  # No better node found (local optimum)\n",
    "            break\n",
    "        else:\n",
    "            # Move to best child\n",
    "            parentNode=bestNode\n",
    "            parentCost=minChildCost\n",
    "            solution.append(parentNode)  # Add node to solution path\n",
    "    \n",
    "    return solution\n",
    "            "
   ]
  },
  {
   "cell_type": "code",
   "execution_count": 3,
   "id": "8cdc0f38",
   "metadata": {},
   "outputs": [
    {
     "name": "stdout",
     "output_type": "stream",
     "text": [
      "['F', 'H', 'I', 'J']\n"
     ]
    }
   ],
   "source": [
    "solution=hillclimbing()\n",
    "print(solution)"
   ]
  },
  {
   "cell_type": "markdown",
   "id": "36b71319",
   "metadata": {},
   "source": [
    "* Simple Hill Climbing"
   ]
  },
  {
   "cell_type": "code",
   "execution_count": null,
   "id": "27dc38dc",
   "metadata": {},
   "outputs": [],
   "source": [
    "\n",
    "# Hill Climbing Algorithm\n",
    "def Hillclimbing():\n",
    "    initialState = 'A'  # Starting point of the search\n",
    "    goalState = 'Y'     # Goal point of the search\n",
    "\n",
    "    # Graph representation with heuristic values as coordinates\n",
    "    # A dictionary where keys are node names ('A', 'B', etc.), and values are Node objects\n",
    "    # Heuristic Values Represent coordinates\n",
    "    graph = {\n",
    "        'A': Node('A', None, [('F', 1)], 0, (0,0)),\n",
    "        'B': Node('B', None, [('G', 1),('C', 1)], 0, (2, 0)),\n",
    "        'C': Node('C', None, [('H', 1),('D', 1)], 0, (3, 0)),\n",
    "        'D': Node('D', None, [('I', 1),('E', 1)], 0, (4, 0)),\n",
    "        'E': Node('E', None, [('D', 1)], 0, (5, 0)),\n",
    "        'F': Node('F', None, [('A', 1),('H', 1)], 0, (0, 1)),\n",
    "        'G': Node('G', None, [('B', 1),('J', 1),], 0, (2, 1)),\n",
    "        'H': Node('H', None, [('F', 1),('I', 1),('M', 1)], 0, (0, 2)),\n",
    "        'I': Node('I', None, [('H', 1),('J', 1),('N', 1)], 0, (1, 2)),\n",
    "        'J': Node('J', None, [('G', 1),('I', 1)], 0, (2, 2)),\n",
    "        'K': Node('K', None, [('L', 1),('P', 1)], 0, (4, 2)),\n",
    "        'L': Node('L', None, [('K', 1),('Q', 1)], 0, (5, 2)),\n",
    "        'M': Node('M', None, [('H', 1),('N', 1),('R', 1)], 0, (0, 3)),\n",
    "        'N': Node('N', None, [('I', 1),('M', 1),('S', 1)], 0, (1, 3)),\n",
    "        'O': Node('O', None, [('P', 1),('U', 1)], 0, (3, 3)),\n",
    "        'P': Node('P', None, [('O', 1),('Q', 1)], 0, (4, 3)),\n",
    "        'Q': Node('Q', None, [('L', 1),('P', 1),('V', 1)], 0, (5, 3)),\n",
    "        'R': Node('R', None, [('M', 1),('S', 1)], 0, (0, 4)),\n",
    "        'S': Node('S', None, [('N', 1),('R', 1),('T', 1)], 0, (1, 4)),\n",
    "        'T': Node('T', None, [('S', 1),('U', 1),('W', 1)], 0, (2, 4)),\n",
    "        'U': Node('U', None, [('O', 1),('T', 1)], 0, (3, 4)),\n",
    "        'V': Node('V', None, [('Q', 1),('Y', 1)], 0, (5, 4)),\n",
    "        'W': Node('W', None, [('T', 1)], 0, (2, 5)),\n",
    "        'X': Node('X', None, [('Y', 1)], 0, (4, 5)),\n",
    "        'Y': Node('Y', None, [('V', 1),('X', 1)], 0, (5, 5))\n",
    "    }\n",
    "\n",
    "    parentNode=initialState\n",
    "    \n",
    "    # Calculate the heuristic cost for the initial state\n",
    "    # Computes the Euclidean distance from 'A' to 'Y' (i.e., straight-line distance).\n",
    "    parentCost=math.sqrt(((graph[goalState].heuristic[0] - graph[initialState].heuristic[0]) ** 2) + (graph[goalState].heuristic[1] - graph[initialState].heuristic[1]) ** 2)\n",
    "    \n",
    "    explored=[]  # Tracks visited nodes\n",
    "    solution=[]  # Stores the path to the goal state\n",
    "  \n",
    "    while parentNode != goalState:\n",
    "            found_better = False\n",
    "            explored.append(parentNode)\n",
    "\n",
    "            for child in graph[parentNode].actions:\n",
    "                childNode = child[0]\n",
    "                if childNode not in explored:\n",
    "                    childCost = math.sqrt(((graph[goalState].heuristic[0] - graph[childNode].heuristic[0]) ** 2) + (graph[goalState].heuristic[1] - graph[childNode].heuristic[1]) ** 2)\n",
    "\n",
    "                    if childCost < parentCost:\n",
    "                        # Immediately move to this better child\n",
    "                        parentNode = childNode\n",
    "                        parentCost = childCost\n",
    "                        solution.append(parentNode)\n",
    "                        found_better = True\n",
    "                        break  # Simple hill climbing: take the first better neighbor\n",
    "\n",
    "            if not found_better:\n",
    "                break  # Local maximum or no better neighbor\n",
    "\n",
    "    return solution            "
   ]
  },
  {
   "cell_type": "code",
   "execution_count": null,
   "id": "39e3bd05",
   "metadata": {},
   "outputs": [],
   "source": [
    "solution=Hillclimbing()\n",
    "print(solution)"
   ]
  },
  {
   "cell_type": "markdown",
   "id": "63b3ed1d",
   "metadata": {},
   "source": [
    "* Stochastic Hill Climbing"
   ]
  },
  {
   "cell_type": "code",
   "execution_count": null,
   "id": "9f008c74",
   "metadata": {},
   "outputs": [],
   "source": [
    "import math\n",
    "import random\n",
    "\n",
    "\n",
    "def Hillclimbing():\n",
    "    initialState = 'A'  # Starting point\n",
    "    goalState = 'Y'     # Goal\n",
    "\n",
    "    graph = {\n",
    "        'A': Node('A', None, [('F', 1)], 0, (0,0)),\n",
    "        'B': Node('B', None, [('G', 1),('C', 1)], 0, (2, 0)),\n",
    "        'C': Node('C', None, [('H', 1),('D', 1)], 0, (3, 0)),\n",
    "        'D': Node('D', None, [('I', 1),('E', 1)], 0, (4, 0)),\n",
    "        'E': Node('E', None, [('D', 1)], 0, (5, 0)),\n",
    "        'F': Node('F', None, [('A', 1),('H', 1)], 0, (0, 1)),\n",
    "        'G': Node('G', None, [('B', 1),('J', 1)], 0, (2, 1)),\n",
    "        'H': Node('H', None, [('F', 1),('I', 1),('M', 1)], 0, (0, 2)),\n",
    "        'I': Node('I', None, [('H', 1),('J', 1),('N', 1)], 0, (1, 2)),\n",
    "        'J': Node('J', None, [('G', 1),('I', 1)], 0, (2, 2)),\n",
    "        'K': Node('K', None, [('L', 1),('P', 1)], 0, (4, 2)),\n",
    "        'L': Node('L', None, [('K', 1),('Q', 1)], 0, (5, 2)),\n",
    "        'M': Node('M', None, [('H', 1),('N', 1),('R', 1)], 0, (0, 3)),\n",
    "        'N': Node('N', None, [('I', 1),('M', 1),('S', 1)], 0, (1, 3)),\n",
    "        'O': Node('O', None, [('P', 1),('U', 1)], 0, (3, 3)),\n",
    "        'P': Node('P', None, [('O', 1),('Q', 1)], 0, (4, 3)),\n",
    "        'Q': Node('Q', None, [('L', 1),('P', 1),('V', 1)], 0, (5, 3)),\n",
    "        'R': Node('R', None, [('M', 1),('S', 1)], 0, (0, 4)),\n",
    "        'S': Node('S', None, [('N', 1),('R', 1),('T', 1)], 0, (1, 4)),\n",
    "        'T': Node('T', None, [('S', 1),('U', 1),('W', 1)], 0, (2, 4)),\n",
    "        'U': Node('U', None, [('O', 1),('T', 1)], 0, (3, 4)),\n",
    "        'V': Node('V', None, [('Q', 1),('Y', 1)], 0, (5, 4)),\n",
    "        'W': Node('W', None, [('T', 1)], 0, (2, 5)),\n",
    "        'X': Node('X', None, [('Y', 1)], 0, (4, 5)),\n",
    "        'Y': Node('Y', None, [('V', 1),('X', 1)], 0, (5, 5))\n",
    "    }\n",
    "\n",
    "    parentNode = initialState\n",
    "    parentCost = math.dist(graph[goalState].heuristic, graph[parentNode].heuristic)\n",
    "\n",
    "    explored = []\n",
    "    solution = [parentNode]\n",
    "\n",
    "    while parentNode != goalState:\n",
    "        explored.append(parentNode)\n",
    "        better_neighbors = []\n",
    "\n",
    "        # Collect all better neighbors\n",
    "        for child in graph[parentNode].actions:\n",
    "            childNode = child[0]\n",
    "            if childNode not in explored:\n",
    "                childCost = math.dist(graph[goalState].heuristic, graph[childNode].heuristic)\n",
    "\n",
    "                if childCost < parentCost:\n",
    "                    better_neighbors.append((childNode, childCost))\n",
    "\n",
    "        if not better_neighbors:\n",
    "            break  # No better neighbors -> stuck at local maximum\n",
    "\n",
    "        # Pick one better neighbor randomly\n",
    "        next_node, next_cost = random.choice(better_neighbors)\n",
    "\n",
    "        parentNode = next_node\n",
    "        parentCost = next_cost\n",
    "        solution.append(parentNode)\n",
    "\n",
    "    return solution\n"
   ]
  },
  {
   "cell_type": "code",
   "execution_count": null,
   "id": "9721d52d",
   "metadata": {},
   "outputs": [],
   "source": [
    "path = Hillclimbing()\n",
    "print(\"Path found:\", path)"
   ]
  }
 ],
 "metadata": {
  "kernelspec": {
   "display_name": "Python 3 (ipykernel)",
   "language": "python",
   "name": "python3"
  },
  "language_info": {
   "codemirror_mode": {
    "name": "ipython",
    "version": 3
   },
   "file_extension": ".py",
   "mimetype": "text/x-python",
   "name": "python",
   "nbconvert_exporter": "python",
   "pygments_lexer": "ipython3",
   "version": "3.12.5"
  }
 },
 "nbformat": 4,
 "nbformat_minor": 5
}
